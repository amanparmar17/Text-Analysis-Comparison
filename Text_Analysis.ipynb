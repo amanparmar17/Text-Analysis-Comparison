{
 "cells": [
  {
   "cell_type": "markdown",
   "metadata": {
    "colab_type": "text",
    "id": "-yGx5pABVOX3"
   },
   "source": [
    "# Step 1:\n",
    "***importing the libraries***"
   ]
  },
  {
   "cell_type": "code",
   "execution_count": 2,
   "metadata": {
    "colab": {},
    "colab_type": "code",
    "id": "enkESoHoVNU_"
   },
   "outputs": [
    {
     "name": "stderr",
     "output_type": "stream",
     "text": [
      "Using TensorFlow backend.\n"
     ]
    }
   ],
   "source": [
    "import numpy as np\n",
    "import pandas as pd\n",
    "import random\n",
    "import os\n",
    "import json\n",
    "import sys\n",
    "import gzip\n",
    "from collections import defaultdict\n",
    "import csv\n",
    "import time\n",
    "\n",
    "#nltk libraries and packages\n",
    "from nltk.tokenize import word_tokenize\n",
    "from nltk import pos_tag\n",
    "from nltk.corpus import stopwords\n",
    "from nltk.stem import WordNetLemmatizer\n",
    "from sklearn.preprocessing import LabelEncoder\n",
    "from nltk.corpus import wordnet as wn\n",
    "\n",
    "#Ml related libraries\n",
    "from sklearn.model_selection import train_test_split\n",
    "\n",
    "from sklearn.linear_model import LogisticRegression as LR\n",
    "from sklearn.ensemble import RandomForestClassifier\n",
    "from sklearn import model_selection, naive_bayes, svm\n",
    "from sklearn.tree import DecisionTreeClassifier\n",
    "\n",
    "from sklearn.feature_extraction.text import CountVectorizer\n",
    "from sklearn.feature_extraction.text import TfidfVectorizer\n",
    "from keras.preprocessing.text import Tokenizer\n",
    "from keras.preprocessing.sequence import pad_sequences\n",
    "from sklearn import metrics\n",
    "\n",
    "from sklearn.metrics import accuracy_score\n",
    "from sklearn.metrics import roc_auc_score as AUC\n",
    "\n",
    "\n",
    "\n"
   ]
  },
  {
   "cell_type": "code",
   "execution_count": 91,
   "metadata": {},
   "outputs": [],
   "source": [
    "from sklearn.preprocessing import label_binarize\n",
    "from sklearn.metrics import roc_auc_score\n",
    "from sklearn.metrics import roc_curve, auc\n",
    "from scipy import interp\n",
    "from itertools import cycle"
   ]
  },
  {
   "cell_type": "markdown",
   "metadata": {
    "colab_type": "text",
    "id": "Cr06oMzeVYDf"
   },
   "source": [
    "# Step 2:\n",
    "***importing and reading the dataset as a pandas dataframe***"
   ]
  },
  {
   "cell_type": "code",
   "execution_count": null,
   "metadata": {
    "colab": {
     "base_uri": "https://localhost:8080/",
     "height": 204
    },
    "colab_type": "code",
    "id": "U1gZYzXHE9Oi",
    "outputId": "40987f37-1e26-43e1-cc83-5a7ac01851d9"
   },
   "outputs": [],
   "source": [
    "!wget http://deepyeti.ucsd.edu/jianmo/amazon/categoryFilesSmall/Electronics_5.json.gz"
   ]
  },
  {
   "cell_type": "code",
   "execution_count": null,
   "metadata": {},
   "outputs": [],
   "source": [
    "#reading the json file in a list\n",
    "\n",
    "values=[]\n",
    "with open(\"Electronics_5.json\",\"r\") as f:\n",
    "    for i in f:\n",
    "        values.append(json.loads(i))\n",
    "\n",
    "        \n",
    "print(values[:5])        "
   ]
  },
  {
   "cell_type": "code",
   "execution_count": null,
   "metadata": {},
   "outputs": [],
   "source": [
    "##code to create the csv file by reading the json in batches of 1lkh rows\n",
    "\n",
    "# total = len(values)\n",
    "\n",
    "import csv\n",
    "\n",
    "total = len(values)\n",
    "\n",
    "batch = 100000\n",
    "\n",
    "count = 0\n",
    "\n",
    "for i in range(0,total,batch):\n",
    "    print(\"iter number: \",count/batch)\n",
    "    text = []\n",
    "    overall = []\n",
    "    revid = []\n",
    "    time = []\n",
    "    for j in range(count , count+batch):\n",
    "        try:\n",
    "            rtext = values[j][\"reviewText\"]\n",
    "            rover = values[j][\"overall\"]\n",
    "            rid = values[j][\"reviewerID\"]\n",
    "            rtime = values[j]['unixReviewTime']\n",
    "            \n",
    "            text.append(rtext)\n",
    "            overall.append(rover)\n",
    "            revid.append(rid)\n",
    "            time.append(rtime)\n",
    "            \n",
    "        except:\n",
    "            pass\n",
    "    count = count + batch\n",
    "    with open(\"Electronic_review.csv\" , \"a\",newline = \"\") as csvfile:\n",
    "        xx = list(zip(revid , text , overall,time))\n",
    "        writer = csv.writer(csvfile,delimiter = \",\")\n",
    "        for k in xx:\n",
    "            writer.writerow(k)\n",
    "            "
   ]
  },
  {
   "cell_type": "code",
   "execution_count": null,
   "metadata": {},
   "outputs": [],
   "source": [
    "%reset_selective values"
   ]
  },
  {
   "cell_type": "markdown",
   "metadata": {
    "colab_type": "text",
    "id": "EfieCYNdV4iM"
   },
   "source": [
    "# Step 3:\n",
    "***filtering out the data fields from the dataframe and storing the filtered data into another df***"
   ]
  },
  {
   "cell_type": "code",
   "execution_count": null,
   "metadata": {},
   "outputs": [],
   "source": [
    "!pip install dask"
   ]
  },
  {
   "cell_type": "code",
   "execution_count": null,
   "metadata": {},
   "outputs": [],
   "source": [
    "#read the dataset into a df\n",
    "colnames = [\"id\",\"text\",\"overall\"]\n",
    "df= pd.read_csv(\"Electronic_review.csv\",names= colnames,header = None)\n"
   ]
  },
  {
   "cell_type": "code",
   "execution_count": null,
   "metadata": {
    "colab": {},
    "colab_type": "code",
    "id": "_siirDesV5Og"
   },
   "outputs": [],
   "source": [
    "#getting all the columns of the dataframe\n",
    "\n",
    "print(\"HEAD:\\n\",df.head(5))\n",
    "print(\"COLUMNS:\\n\",df.columns)\n",
    "print(\"SHAPE:\\n\",df.shape)\n",
    "print(\"NO. OF COLUMNS:\\n\",len(df.columns))\n",
    "\n",
    "#finding the unique values assigned to the vote field in the dataset\n",
    "\n",
    "print(\"UNIQUE VOTE VALUES:\\n\")\n",
    "print(df['rating'].unique)                         #check the name of the column corresponding to vote\n"
   ]
  },
  {
   "cell_type": "code",
   "execution_count": null,
   "metadata": {},
   "outputs": [],
   "source": [
    "pd.options.display.max_colwidth = 300"
   ]
  },
  {
   "cell_type": "code",
   "execution_count": null,
   "metadata": {},
   "outputs": [],
   "source": [
    "print(df.loc[df['overall'] == 2.0]['text'][:2])"
   ]
  },
  {
   "cell_type": "markdown",
   "metadata": {
    "colab_type": "text",
    "id": "SSXz_Nw9V582"
   },
   "source": [
    "# Step 4:\n",
    "***Populating the data with proper values of sentiments for applying supervised machine learning algorithms for sentiment analysis***\n",
    "\n",
    "**The division of sentiment, on the basis of vote value, is as follows**\n",
    "\n",
    "   * 0 < Vote < 3 => Negative sentiment (-1)\n",
    "   * Vote = 3 => Neutral Sentiment (0)\n",
    "   *  3 < Vote <= 5 => Positive Sentiment (1) \n",
    "\n",
    "\n",
    "\n",
    "\n"
   ]
  },
  {
   "cell_type": "code",
   "execution_count": null,
   "metadata": {},
   "outputs": [],
   "source": [
    "newdf = df\n",
    "print(len(newdf))"
   ]
  },
  {
   "cell_type": "code",
   "execution_count": null,
   "metadata": {},
   "outputs": [],
   "source": [
    "newdf.loc[1,'overall'] ==3"
   ]
  },
  {
   "cell_type": "code",
   "execution_count": null,
   "metadata": {
    "colab": {},
    "colab_type": "code",
    "id": "Hv73xaFOV6p-"
   },
   "outputs": [],
   "source": [
    "#iterate over the complete dataset and populate the sentiment field\n",
    "total = len(newdf)\n",
    "batch = 100000\n",
    "pr = 100\n",
    "count=0\n",
    "for i in range(0,total-1,batch):\n",
    "    print(\"MAIN iteration is: \", count/batch)\n",
    "    Sentiment = []\n",
    "    for j in range(count,count+batch):\n",
    "        if j%pr ==0:\n",
    "            print(\"INTER iteration is: \", j/pr)\n",
    "        vote_val = newdf.loc[count,\"overall\"]\n",
    "        if vote_val == 3:\n",
    "            Sentiment.append(0)\n",
    "        elif vote_val>=0 and vote_val < 3:\n",
    "            Sentiment.append(-1)\n",
    "        else:\n",
    "            Sentiment.append(1)\n",
    "    print(len(Sentiment))\n",
    "    print(count)\n",
    "    print(count+batch)\n",
    "    newdf.loc[count:count+batch-1,'Sentiment'] = Sentiment\n",
    "    count = count+batch"
   ]
  },
  {
   "cell_type": "code",
   "execution_count": null,
   "metadata": {},
   "outputs": [],
   "source": [
    "newdf.to_csv(\"processedData.csv\",chunksize=100000)"
   ]
  },
  {
   "cell_type": "markdown",
   "metadata": {
    "colab_type": "text",
    "id": "1Boj9wWPhp3B"
   },
   "source": [
    "# Step 5:\n",
    "***preprocess the text data samples***\n",
    "\n",
    "### Steps for preprocessing\n",
    "\n",
    "  *  ***Filter out numbers***\n",
    "  * ***Stemming and lemmitisation***\n",
    "  * ***Remove stopwords***\n",
    "  * ***Other root level token changes***\n",
    "\n",
    "\n",
    "\n"
   ]
  },
  {
   "cell_type": "code",
   "execution_count": null,
   "metadata": {},
   "outputs": [],
   "source": [
    "!pip install nltk"
   ]
  },
  {
   "cell_type": "code",
   "execution_count": null,
   "metadata": {
    "colab": {},
    "colab_type": "code",
    "id": "nZICucV-kTYe"
   },
   "outputs": [],
   "source": [
    "from nltk.tokenize import word_tokenize\n",
    "from nltk import pos_tag\n",
    "from nltk.corpus import stopwords\n",
    "from nltk.stem import WordNetLemmatizer\n",
    "from sklearn.preprocessing import LabelEncoder\n",
    "from nltk.corpus import wordnet as wn\n",
    "\n",
    "import nltk\n",
    "nltk.download(\"stopwords\")"
   ]
  },
  {
   "cell_type": "code",
   "execution_count": null,
   "metadata": {},
   "outputs": [],
   "source": [
    "%reset_selective df"
   ]
  },
  {
   "cell_type": "code",
   "execution_count": null,
   "metadata": {},
   "outputs": [],
   "source": [
    "df= pd.read_csv(\"processedData.csv\")"
   ]
  },
  {
   "cell_type": "code",
   "execution_count": null,
   "metadata": {},
   "outputs": [],
   "source": [
    "import re"
   ]
  },
  {
   "cell_type": "code",
   "execution_count": null,
   "metadata": {},
   "outputs": [],
   "source": [
    "nltk.download(\"punkt\")"
   ]
  },
  {
   "cell_type": "code",
   "execution_count": null,
   "metadata": {},
   "outputs": [],
   "source": [
    "df.head(5)"
   ]
  },
  {
   "cell_type": "code",
   "execution_count": null,
   "metadata": {},
   "outputs": [],
   "source": [
    "# print(count)\n",
    "df.loc[2099999,\"review\"]"
   ]
  },
  {
   "cell_type": "code",
   "execution_count": null,
   "metadata": {
    "colab": {},
    "colab_type": "code",
    "id": "0bAbaYcDhqcm"
   },
   "outputs": [],
   "source": [
    "# df=newdf[:3000000]\n",
    "# 21lkh  rows\n",
    "\n",
    "REPLACE_BY_SPACE_RE = re.compile('[/(){}\\[\\]\\|@,;]')\n",
    "BAD_SYMBOLS_RE = re.compile('[^0-9a-z #+_]')\n",
    "STOPWORDS = set(stopwords.words('english'))\n",
    "\n",
    "#removing the blank rows if any\n",
    "print(\"removing empty rows...\")\n",
    "df['review'].dropna(inplace=True)\n",
    "\n",
    "#tokenise the data samples\n",
    "print(\"tokenising reviews...\")\n",
    "total=len(df)\n",
    "batch = 100000\n",
    "count = 0\n",
    "for i in range(0,total,batch):\n",
    "    print(\"Iteration number:\",count/batch)\n",
    "    tokenised =[]\n",
    "    for j in range(count,count+batch):\n",
    "        tokenised.append(word_tokenize(df.loc[j,\"review\"]))\n",
    "    df.loc[count:count+batch-1,\"review\"] = tokenised\n",
    "    count = count+batch\n",
    "        \n"
   ]
  },
  {
   "cell_type": "code",
   "execution_count": null,
   "metadata": {},
   "outputs": [],
   "source": [
    "len(df.loc[10,\"review\"][:50])"
   ]
  },
  {
   "cell_type": "code",
   "execution_count": null,
   "metadata": {},
   "outputs": [],
   "source": [
    "#using stemming instead of lemmitisation\n",
    "\n",
    "from nltk.stem import PorterStemmer\n",
    "ps = PorterStemmer() \n",
    "\n",
    "count = 0\n",
    "for i in range(0,2100000,batch):\n",
    "    print(\"Iteration number:\",count/batch)\n",
    "    fin = []\n",
    "    for j in range(count,count+batch):\n",
    "        if j%1000 ==0:\n",
    "            print(j)\n",
    "        Final_words = []\n",
    "        if len(df.loc[j,\"review\"]) > 75:\n",
    "            text = df.loc[j,\"review\"][:75]\n",
    "        else:\n",
    "            text = df.loc[j,\"review\"]\n",
    "        for word in text:\n",
    "            # Below condition is to check for Stop words and consider only alphabets\n",
    "            if word not in stopwords.words('english') and word.isalpha():\n",
    "                word = word.lower()\n",
    "                word_Final = ps.stem(word)\n",
    "                Final_words.append(word_Final)\n",
    "        # The final processed set of words for each iteration will be stored in 'reviewText_final'\n",
    "        fin.append(str(Final_words))\n",
    "    df.loc[coutn:count_batch-1,'reviewText_final'] = fin\n",
    "    count+=batch\n",
    "\n"
   ]
  },
  {
   "cell_type": "code",
   "execution_count": null,
   "metadata": {},
   "outputs": [],
   "source": [
    "df.head(5)"
   ]
  },
  {
   "cell_type": "code",
   "execution_count": null,
   "metadata": {},
   "outputs": [],
   "source": [
    "%whos"
   ]
  },
  {
   "cell_type": "code",
   "execution_count": null,
   "metadata": {},
   "outputs": [],
   "source": [
    "df.loc[count:count+batch-1,'reviewText_final'] = fin"
   ]
  },
  {
   "cell_type": "code",
   "execution_count": null,
   "metadata": {},
   "outputs": [],
   "source": [
    "lat_df = df[:100000]"
   ]
  },
  {
   "cell_type": "code",
   "execution_count": null,
   "metadata": {},
   "outputs": [],
   "source": [
    "lat_df.to_csv(\"CurrentUsedFile.csv\")"
   ]
  },
  {
   "cell_type": "code",
   "execution_count": null,
   "metadata": {},
   "outputs": [],
   "source": [
    "lat_df.head(5)"
   ]
  },
  {
   "cell_type": "markdown",
   "metadata": {
    "colab_type": "text",
    "id": "OKpoWZIEhrIk"
   },
   "source": [
    "# Step 6:\n",
    "## ***split the dataset into train and test set***"
   ]
  },
  {
   "cell_type": "code",
   "execution_count": 3,
   "metadata": {},
   "outputs": [
    {
     "name": "stdout",
     "output_type": "stream",
     "text": [
      "   Unnamed: 0  Unnamed: 0.1              id  \\\n",
      "0           0             0   AAP7PPBU72QFM   \n",
      "1           1             1  A2E168DTVGE6SV   \n",
      "2           2             2  A1ER5AYS3FQ9O3   \n",
      "3           3             3  A1T17LMQABMBN5   \n",
      "4           4             4  A3QHJ0FXK33OBE   \n",
      "\n",
      "                                              review  rating  Sentiment  \\\n",
      "0  ['This', 'is', 'the', 'best', 'novel', 'I', 'h...     5.0        1.0   \n",
      "1  ['Pages', 'and', 'pages', 'of', 'introspection...     3.0        0.0   \n",
      "2  ['This', 'is', 'the', 'kind', 'of', 'novel', '...     5.0        1.0   \n",
      "3  ['What', 'gorgeous', 'language', '!', 'What', ...     5.0        1.0   \n",
      "4  ['I', 'was', 'taken', 'in', 'by', 'reviews', '...     3.0        0.0   \n",
      "\n",
      "                                    reviewText_final  \n",
      "0  ['thi', 'best', 'novel', 'i', 'read', 'year', ...  \n",
      "1  ['page', 'page', 'introspect', 'style', 'write...  \n",
      "2  ['thi', 'kind', 'novel', 'read', 'time', 'lose...  \n",
      "3  ['what', 'gorgeou', 'languag', 'what', 'incred...  \n",
      "4  ['i', 'taken', 'review', 'compar', 'book', 'th...  \n"
     ]
    }
   ],
   "source": [
    "#importing thenew dataset\n",
    "lat_df = pd.read_csv(\"CurrentUsedFile.csv\")\n",
    "print(lat_df.head(5))"
   ]
  },
  {
   "cell_type": "code",
   "execution_count": 4,
   "metadata": {
    "colab": {},
    "colab_type": "code",
    "id": "CKlU4-Mehrit"
   },
   "outputs": [],
   "source": [
    "#create x and y => x:textreview , y:sentiment\n",
    "Train_X, Test_X, Train_Y, Test_Y = model_selection.train_test_split(lat_df['reviewText_final'],lat_df['Sentiment'],test_size=0.2,random_state = 42)"
   ]
  },
  {
   "cell_type": "code",
   "execution_count": 5,
   "metadata": {},
   "outputs": [
    {
     "name": "stdout",
     "output_type": "stream",
     "text": [
      "(80000,) (80000,)\n",
      "(20000,) (20000,)\n"
     ]
    }
   ],
   "source": [
    "print(Train_X.shape,Train_Y.shape)\n",
    "print(Test_X.shape,Test_Y.shape)"
   ]
  },
  {
   "cell_type": "code",
   "execution_count": 115,
   "metadata": {},
   "outputs": [],
   "source": [
    "Test_Y_binarise = label_binarize(Test_Y,classes = [0,1,2])"
   ]
  },
  {
   "cell_type": "markdown",
   "metadata": {
    "colab_type": "text",
    "id": "Yu4RoO3dhsDh"
   },
   "source": [
    "# Step 7:\n",
    "## ***Applying tfidf vectorisor to the tokens formed for each of the review sample***\n"
   ]
  },
  {
   "cell_type": "code",
   "execution_count": 6,
   "metadata": {
    "colab": {},
    "colab_type": "code",
    "id": "6DNiG00AhskA"
   },
   "outputs": [],
   "source": [
    "# Encoder = LabelEncoder()\n",
    "# Train_Y = Encoder.fit_transform(Train_Y)\n",
    "# Test_Y = Encoder.fit_transform(Test_Y)\n",
    "\n",
    "# Step - 4: Vectorize the words by using TF-IDF Vectorizer - This is done to find how important a word in document is in comaprison to the df\n",
    "from sklearn.feature_extraction.text import TfidfVectorizer\n",
    "\n",
    "Tfidf_vect = TfidfVectorizer(max_features=500000)               #tweak features based on the dataset\n",
    "Tfidf_vect.fit(lat_df['reviewText_final'])\n",
    "\n",
    "Train_X_Tfidf = Tfidf_vect.transform(Train_X)\n",
    "Test_X_Tfidf = Tfidf_vect.transform(Test_X)\n",
    "\n",
    "\n"
   ]
  },
  {
   "cell_type": "markdown",
   "metadata": {
    "colab_type": "text",
    "id": "5Ih6El9wuE1P"
   },
   "source": [
    "# Step 8:\n",
    "## ***Applying the SVM, NB and DT models***"
   ]
  },
  {
   "cell_type": "code",
   "execution_count": 7,
   "metadata": {},
   "outputs": [],
   "source": [
    "def modelEvaluation(predictions, y_test_set):\n",
    "    #Print model evaluation to predicted result \n",
    "    \n",
    "    print (\"\\nAccuracy on validation set: {:.4f}\".format(accuracy_score(y_test_set, predictions)))\n",
    "    #print \"\\nAUC score : {:.4f}\".format(roc_auc_score(y_test_set, predictions))\n",
    "    print (\"\\nClassification report : \\n\", metrics.classification_report(y_test_set, predictions))\n",
    "    print (\"\\nConfusion Matrix : \\n\", metrics.confusion_matrix(y_test_set, predictions))"
   ]
  },
  {
   "cell_type": "markdown",
   "metadata": {
    "colab_type": "text",
    "id": "5SaJ38zSuNv3"
   },
   "source": [
    "### Naive Bayes Model"
   ]
  },
  {
   "cell_type": "code",
   "execution_count": 8,
   "metadata": {
    "colab": {},
    "colab_type": "code",
    "id": "nAISclQEuGUV"
   },
   "outputs": [
    {
     "name": "stdout",
     "output_type": "stream",
     "text": [
      "Process time  1.6732573509216309\n"
     ]
    }
   ],
   "source": [
    "\n",
    "# Classifier - Algorithm - Naive Bayes\n",
    "# fit the training dataset on the classifier\n",
    "import time\n",
    "second=time.time()\n",
    "\n",
    "Naive = naive_bayes.MultinomialNB()\n",
    "historyNB = Naive.fit(Train_X_Tfidf,Train_Y)\n",
    "\n",
    "# predict the labels on validation dataset\n",
    "predictions_NB = Naive.predict(Test_X_Tfidf)\n",
    "\n",
    "#time \n",
    "print(\"Process time \", time.time()-second)"
   ]
  },
  {
   "cell_type": "code",
   "execution_count": 9,
   "metadata": {},
   "outputs": [
    {
     "name": "stdout",
     "output_type": "stream",
     "text": [
      "\n",
      "Accuracy on validation set: 0.8447\n",
      "\n",
      "Classification report : \n",
      "               precision    recall  f1-score   support\n",
      "\n",
      "        -1.0       0.78      0.02      0.04      1747\n",
      "         0.0       0.07      0.00      0.00      1377\n",
      "         1.0       0.85      1.00      0.92     16876\n",
      "\n",
      "    accuracy                           0.84     20000\n",
      "   macro avg       0.56      0.34      0.32     20000\n",
      "weighted avg       0.79      0.84      0.78     20000\n",
      "\n",
      "\n",
      "Confusion Matrix : \n",
      " [[   36     1  1710]\n",
      " [    3     1  1373]\n",
      " [    7    13 16856]]\n"
     ]
    }
   ],
   "source": [
    "modelEvaluation(predictions_NB, Test_Y)"
   ]
  },
  {
   "cell_type": "code",
   "execution_count": 10,
   "metadata": {},
   "outputs": [
    {
     "name": "stdout",
     "output_type": "stream",
     "text": [
      "Naive Bayes Accuracy Score ->  84.465\n",
      "Precision is:  0.5648845888171484\n",
      "Recall is:  0.3400492852975055\n",
      "F-1 Score is:  0.3191022160393823\n"
     ]
    }
   ],
   "source": [
    "from sklearn.metrics import precision_recall_fscore_support\n",
    "\n",
    "a,b,c,d = precision_recall_fscore_support(Test_Y, predictions_NB, average='macro')\n",
    "# Use accuracy_score function to get the accuracy\n",
    "print(\"Naive Bayes Accuracy Score -> \",accuracy_score(predictions_NB, Test_Y)*100)\n",
    "print(\"Precision is: \",a)\n",
    "print(\"Recall is: \",b)\n",
    "print(\"F-1 Score is: \",c)\n",
    "\n"
   ]
  },
  {
   "cell_type": "code",
   "execution_count": 81,
   "metadata": {},
   "outputs": [],
   "source": [
    "predictions_NB_binarise = label_binarize(predictions_NB, classes=[0, 1, 2])"
   ]
  },
  {
   "cell_type": "code",
   "execution_count": 110,
   "metadata": {},
   "outputs": [
    {
     "name": "stderr",
     "output_type": "stream",
     "text": [
      "C:\\Users\\Harold\\anaconda3\\envs\\python37\\lib\\site-packages\\sklearn\\metrics\\_ranking.py:813: UndefinedMetricWarning: No positive samples in y_true, true positive value should be meaningless\n",
      "  UndefinedMetricWarning)\n",
      "C:\\Users\\Harold\\anaconda3\\envs\\python37\\lib\\site-packages\\ipykernel_launcher.py:20: DeprecationWarning: scipy.interp is deprecated and will be removed in SciPy 2.0.0, use numpy.interp instead\n"
     ]
    },
    {
     "data": {
      "image/png": "[encoded data removed]",
      "text/plain": [
       "<Figure size 432x288 with 1 Axes>"
      ]
     },
     "metadata": {
      "needs_background": "light"
     },
     "output_type": "display_data"
    }
   ],
   "source": [
    "#naive Bayes\n",
    "\n",
    "fpr_NB = dict()\n",
    "tpr_NB = dict()\n",
    "roc_auc_NB = dict()\n",
    "for i in range(3):\n",
    "    fpr_NB[i], tpr_NB[i], _ = roc_curve(Test_Y_binarise[:, i], predictions_NB_binarise[:, i])\n",
    "    roc_auc_NB[i] = auc(fpr_NB[i], tpr_NB[i])\n",
    "\n",
    "# Compute micro-average ROC curve and ROC area\n",
    "fpr_NB[\"micro\"], tpr_NB[\"micro\"], _ = roc_curve(Test_Y_binarise.ravel(), predictions_NB_binarise.ravel())\n",
    "roc_auc_NB[\"micro\"] = auc(fpr_NB[\"micro\"], tpr_NB[\"micro\"])\n",
    "\n",
    "# First aggregate all false positive rates\n",
    "all_fpr_NB = np.unique(np.concatenate([fpr_NB[i] for i in range(3)]))\n",
    "\n",
    "# Then interpolate all ROC curves at this points\n",
    "mean_tpr_NB = np.zeros_like(all_fpr_NB)\n",
    "for i in range(3):\n",
    "    mean_tpr_NB += interp(all_fpr_NB, fpr_NB[i], tpr_NB[i])\n",
    "\n",
    "# Finally average it and compute AUC\n",
    "mean_tpr_NB /= 3\n",
    "\n",
    "# Plot all ROC curves\n",
    "plt.figure()\n",
    "plt.plot(fpr_NB[\"micro\"], tpr_NB[\"micro\"],\n",
    "         label='micro-average ROC curve (area = {0:0.2f})'\n",
    "               ''.format(roc_auc_NB[\"micro\"]),\n",
    "         color='deeppink', linestyle=':', linewidth=5)\n",
    "\n",
    "\n",
    "plt.plot([0, 1], [0, 1], 'k--')\n",
    "plt.xlim([0.0, 1.0])\n",
    "plt.ylim([0.0, 1.05])\n",
    "plt.xlabel('False Positive Rate')\n",
    "plt.ylabel('True Positive Rate')\n",
    "plt.title('Some extension of Receiver operating characteristic to multi-class')\n",
    "plt.legend(loc=\"lower right\")\n",
    "plt.show()"
   ]
  },
  {
   "cell_type": "markdown",
   "metadata": {
    "colab_type": "text",
    "id": "g5mxtyAluSQE"
   },
   "source": [
    "### Support Vector Machine *(SVM)* Model"
   ]
  },
  {
   "cell_type": "code",
   "execution_count": 11,
   "metadata": {
    "colab": {},
    "colab_type": "code",
    "id": "z2BtAjnVuTgx"
   },
   "outputs": [
    {
     "name": "stdout",
     "output_type": "stream",
     "text": [
      "Process time  1493.6012251377106\n"
     ]
    }
   ],
   "source": [
    "# Classifier - Algorithm - SVM\n",
    "# fit the training dataset on the classifier\n",
    "second=time.time()\n",
    "\n",
    "SVM = svm.SVC(C=1.0, kernel='linear', degree=3, gamma='auto')\n",
    "historySVM = SVM.fit(Train_X_Tfidf,Train_Y)\n",
    "\n",
    "# predict the labels on validation dataset\n",
    "predictions_SVM = SVM.predict(Test_X_Tfidf)\n",
    "print(\"Process time \", time.time()-second)"
   ]
  },
  {
   "cell_type": "code",
   "execution_count": 12,
   "metadata": {},
   "outputs": [
    {
     "name": "stdout",
     "output_type": "stream",
     "text": [
      "\n",
      "Accuracy on validation set: 0.8707\n",
      "\n",
      "Classification report : \n",
      "               precision    recall  f1-score   support\n",
      "\n",
      "        -1.0       0.66      0.43      0.52      1747\n",
      "         0.0       0.41      0.01      0.01      1377\n",
      "         1.0       0.88      0.99      0.93     16876\n",
      "\n",
      "    accuracy                           0.87     20000\n",
      "   macro avg       0.65      0.47      0.49     20000\n",
      "weighted avg       0.83      0.87      0.83     20000\n",
      "\n",
      "\n",
      "Confusion Matrix : \n",
      " [[  754     2   991]\n",
      " [  178     7  1192]\n",
      " [  216     8 16652]]\n"
     ]
    }
   ],
   "source": [
    "modelEvaluation(predictions_SVM, Test_Y)"
   ]
  },
  {
   "cell_type": "code",
   "execution_count": 13,
   "metadata": {},
   "outputs": [
    {
     "name": "stdout",
     "output_type": "stream",
     "text": [
      "SVM Accuracy Score ->  87.065\n",
      "Precision is:  0.6508859610974215\n",
      "Recall is:  0.47446908361578394\n",
      "F-1 Score is:  0.48784631359236874\n"
     ]
    }
   ],
   "source": [
    "asvm,bsvm,csvm,dsvm = precision_recall_fscore_support(Test_Y, predictions_SVM, average='macro')\n",
    "# Use accuracy_score function to get the accuracy\n",
    "print(\"SVM Accuracy Score -> \",accuracy_score(predictions_SVM, Test_Y)*100)\n",
    "print(\"Precision is: \",asvm)\n",
    "print(\"Recall is: \",bsvm)\n",
    "print(\"F-1 Score is: \",csvm)"
   ]
  },
  {
   "cell_type": "code",
   "execution_count": 82,
   "metadata": {},
   "outputs": [],
   "source": [
    "predictions_SVM_binarise = label_binarize(predictions_SVM, classes=[0, 1, 2])"
   ]
  },
  {
   "cell_type": "code",
   "execution_count": 112,
   "metadata": {},
   "outputs": [
    {
     "name": "stderr",
     "output_type": "stream",
     "text": [
      "C:\\Users\\Harold\\anaconda3\\envs\\python37\\lib\\site-packages\\sklearn\\metrics\\_ranking.py:813: UndefinedMetricWarning: No positive samples in y_true, true positive value should be meaningless\n",
      "  UndefinedMetricWarning)\n",
      "C:\\Users\\Harold\\anaconda3\\envs\\python37\\lib\\site-packages\\ipykernel_launcher.py:20: DeprecationWarning: scipy.interp is deprecated and will be removed in SciPy 2.0.0, use numpy.interp instead\n"
     ]
    },
    {
     "data": {
      "image/png": "[encoded data removed]",
      "text/plain": [
       "<Figure size 432x288 with 1 Axes>"
      ]
     },
     "metadata": {
      "needs_background": "light"
     },
     "output_type": "display_data"
    }
   ],
   "source": [
    "#SVM \n",
    "\n",
    "fpr_SVM = dict()\n",
    "tpr_SVM = dict()\n",
    "roc_auc_SVM = dict()\n",
    "for i in range(3):\n",
    "    fpr_SVM[i], tpr_SVM[i], _ = roc_curve(Test_Y_binarise[:, i], predictions_SVM_binarise[:, i])\n",
    "    roc_auc_SVM[i] = auc(fpr_SVM[i], tpr_SVM[i])\n",
    "\n",
    "# Compute micro-average ROC curve and ROC area\n",
    "fpr_SVM[\"micro\"], tpr_SVM[\"micro\"], _ = roc_curve(Test_Y_binarise.ravel(), predictions_SVM_binarise.ravel())\n",
    "roc_auc_SVM[\"micro\"] = auc(fpr_SVM[\"micro\"], tpr_SVM[\"micro\"])\n",
    "\n",
    "# First aggregate all false positive rates\n",
    "all_fpr_SVM = np.unique(np.concatenate([fpr_SVM[i] for i in range(3)]))\n",
    "\n",
    "# Then interpolate all ROC curves at this points\n",
    "mean_tpr_SVM = np.zeros_like(all_fpr_SVM)\n",
    "for i in range(3):\n",
    "    mean_tpr_SVM += interp(all_fpr_SVM, fpr_SVM[i], tpr_SVM[i])\n",
    "\n",
    "# Finally average it and compute AUC\n",
    "mean_tpr_SVM /= 3\n",
    "\n",
    "# Plot all ROC curves\n",
    "plt.figure()\n",
    "plt.plot(fpr_SVM[\"micro\"], tpr_SVM[\"micro\"],\n",
    "         label='micro-average ROC curve (area = {0:0.2f})'\n",
    "               ''.format(roc_auc_SVM[\"micro\"]),\n",
    "         color='deeppink', linestyle=':', linewidth=5)\n",
    "\n",
    "\n",
    "plt.plot([0, 1], [0, 1], 'k--')\n",
    "plt.xlim([0.0, 1.0])\n",
    "plt.ylim([0.0, 1.05])\n",
    "plt.xlabel('False Positive Rate')\n",
    "plt.ylabel('True Positive Rate')\n",
    "plt.title('Some extension of Receiver operating characteristic to multi-class')\n",
    "plt.legend(loc=\"lower right\")\n",
    "plt.show()"
   ]
  },
  {
   "cell_type": "markdown",
   "metadata": {},
   "source": [
    "  "
   ]
  },
  {
   "cell_type": "markdown",
   "metadata": {
    "colab_type": "text",
    "id": "UTWlrMRputrP"
   },
   "source": [
    "### Decision Tree Model"
   ]
  },
  {
   "cell_type": "code",
   "execution_count": 93,
   "metadata": {},
   "outputs": [],
   "source": [
    "#writing the data to a csv file\n",
    "\n",
    "# lat_df.to_csv(\"CurrentUsedFile.csv\")"
   ]
  },
  {
   "cell_type": "code",
   "execution_count": 14,
   "metadata": {},
   "outputs": [
    {
     "name": "stdout",
     "output_type": "stream",
     "text": [
      "Process time  80.46823930740356\n"
     ]
    }
   ],
   "source": [
    "third=time.time()\n",
    "decTree = DecisionTreeClassifier()\n",
    "decTree.fit(Train_X_Tfidf, Train_Y)\n",
    "y_decTree_predicted = decTree.predict(Test_X_Tfidf)\n",
    "#time \n",
    "print(\"Process time \", time.time()-third)"
   ]
  },
  {
   "cell_type": "code",
   "execution_count": 15,
   "metadata": {},
   "outputs": [
    {
     "name": "stdout",
     "output_type": "stream",
     "text": [
      "\n",
      "Accuracy on validation set: 0.8250\n",
      "\n",
      "Classification report : \n",
      "               precision    recall  f1-score   support\n",
      "\n",
      "        -1.0       0.43      0.43      0.43      1747\n",
      "         0.0       0.28      0.23      0.25      1377\n",
      "         1.0       0.90      0.92      0.91     16876\n",
      "\n",
      "    accuracy                           0.83     20000\n",
      "   macro avg       0.54      0.52      0.53     20000\n",
      "weighted avg       0.82      0.83      0.82     20000\n",
      "\n",
      "\n",
      "Confusion Matrix : \n",
      " [[  744   152   851]\n",
      " [  193   314   870]\n",
      " [  784   649 15443]]\n"
     ]
    }
   ],
   "source": [
    "modelEvaluation(y_decTree_predicted, Test_Y)"
   ]
  },
  {
   "cell_type": "code",
   "execution_count": 80,
   "metadata": {},
   "outputs": [],
   "source": [
    "y_decTree_predicted_binarise = label_binarize(y_decTree_predicted, classes=[0, 1, 2])"
   ]
  },
  {
   "cell_type": "code",
   "execution_count": 85,
   "metadata": {},
   "outputs": [
    {
     "name": "stderr",
     "output_type": "stream",
     "text": [
      "C:\\Users\\Harold\\anaconda3\\envs\\python37\\lib\\site-packages\\sklearn\\metrics\\_ranking.py:813: UndefinedMetricWarning: No positive samples in y_true, true positive value should be meaningless\n",
      "  UndefinedMetricWarning)\n"
     ]
    }
   ],
   "source": [
    "#decision tree\n",
    "\n",
    "fpr_dectree = dict()\n",
    "tpr_dectree = dict()\n",
    "roc_auc_dectree = dict()\n",
    "for i in range(3):\n",
    "    fpr_dectree[i], tpr_dectree[i], _ = roc_curve(Test_Y_binarise[:, i], y_decTree_predicted_binarise[:, i])\n",
    "    roc_auc_dectree[i] = auc(fpr_dectree[i], tpr_dectree[i])\n",
    "\n",
    "# Compute micro-average ROC curve and ROC area\n",
    "fpr_dectree[\"micro\"], tpr_dectree[\"micro\"], _ = roc_curve(Test_Y_binarise.ravel(), y_decTree_predicted_binarise.ravel())\n",
    "roc_auc_dectree[\"micro\"] = auc(fpr_dectree[\"micro\"], tpr_dectree[\"micro\"])"
   ]
  },
  {
   "cell_type": "code",
   "execution_count": 109,
   "metadata": {},
   "outputs": [
    {
     "name": "stderr",
     "output_type": "stream",
     "text": [
      "C:\\Users\\Harold\\anaconda3\\envs\\python37\\lib\\site-packages\\ipykernel_launcher.py:7: DeprecationWarning: scipy.interp is deprecated and will be removed in SciPy 2.0.0, use numpy.interp instead\n",
      "  import sys\n"
     ]
    },
    {
     "data": {
      "image/png": "[encoded data removed]",
      "text/plain": [
       "<Figure size 432x288 with 1 Axes>"
      ]
     },
     "metadata": {
      "needs_background": "light"
     },
     "output_type": "display_data"
    }
   ],
   "source": [
    "# First aggregate all false positive rates\n",
    "all_fpr_dectree = np.unique(np.concatenate([fpr_dectree[i] for i in range(3)]))\n",
    "\n",
    "# Then interpolate all ROC curves at this points\n",
    "mean_tpr_dectree = np.zeros_like(all_fpr_dectree)\n",
    "for i in range(3):\n",
    "    mean_tpr_dectree += interp(all_fpr_dectree, fpr_dectree[i], tpr_dectree[i])\n",
    "\n",
    "# Finally average it and compute AUC\n",
    "mean_tpr_dectree /= 3\n",
    "\n",
    "\n",
    "\n",
    "# Plot all ROC curves\n",
    "plt.figure()\n",
    "plt.plot(fpr_dectree[\"micro\"], tpr_dectree[\"micro\"],\n",
    "         label='micro-average ROC curve (area = {0:0.2f})'\n",
    "               ''.format(roc_auc_dectree[\"micro\"]),\n",
    "         color='deeppink', linestyle=':', linewidth=5)\n",
    "\n",
    "plt.plot([0, 1], [0, 1], 'k--')\n",
    "plt.xlim([0.0, 1.0])\n",
    "plt.ylim([0.0, 1.05])\n",
    "plt.xlabel('False Positive Rate')\n",
    "plt.ylabel('True Positive Rate')\n",
    "plt.title('Some extension of Receiver operating characteristic to multi-class')\n",
    "plt.legend(loc=\"lower right\")\n",
    "plt.show()"
   ]
  },
  {
   "cell_type": "markdown",
   "metadata": {},
   "source": [
    "## plotting all 3 ROC together"
   ]
  },
  {
   "cell_type": "code",
   "execution_count": 114,
   "metadata": {},
   "outputs": [
    {
     "data": {
      "image/png": "[encoded data removed]",
      "text/plain": [
       "<Figure size 432x288 with 1 Axes>"
      ]
     },
     "metadata": {
      "needs_background": "light"
     },
     "output_type": "display_data"
    }
   ],
   "source": [
    "plt.figure()\n",
    "plt.plot(fpr_SVM[\"micro\"], tpr_SVM[\"micro\"],\n",
    "         label='SVM - micro-average ROC curve (area = {0:0.2f})'\n",
    "               ''.format(roc_auc_SVM[\"micro\"]),\n",
    "         color='blue', linestyle=':', linewidth=5)\n",
    "\n",
    "plt.plot(fpr_NB[\"micro\"], tpr_NB[\"micro\"],\n",
    "         label='NB - micro-average ROC curve (area = {0:0.2f})'\n",
    "               ''.format(roc_auc_NB[\"micro\"]),\n",
    "         color='orange', linestyle=':', linewidth=5)\n",
    "\n",
    "plt.plot(fpr_dectree[\"micro\"], tpr_dectree[\"micro\"],\n",
    "         label='DTree - micro-average ROC curve (area = {0:0.2f})'\n",
    "               ''.format(roc_auc_dectree[\"micro\"]),\n",
    "         color='cyan', linestyle=':', linewidth=5)\n",
    "\n",
    "plt.plot([0, 1], [0, 1], 'k--')\n",
    "plt.xlim([0.0, 1.0])\n",
    "plt.ylim([0.0, 1.05])\n",
    "plt.xlabel('False Positive Rate')\n",
    "plt.ylabel('True Positive Rate')\n",
    "plt.title('Some extension of Receiver operating characteristic to multi-class')\n",
    "plt.legend(loc=\"lower right\")\n",
    "plt.show()"
   ]
  },
  {
   "cell_type": "markdown",
   "metadata": {
    "colab_type": "text",
    "id": "uRYh2MNPguQz"
   },
   "source": [
    "# Step 9:\n",
    "\n",
    "## *LSTM*"
   ]
  },
  {
   "cell_type": "code",
   "execution_count": 16,
   "metadata": {
    "colab": {},
    "colab_type": "code",
    "id": "K1Dtv4BAguy5"
   },
   "outputs": [
    {
     "name": "stdout",
     "output_type": "stream",
     "text": [
      "   Unnamed: 0              id  \\\n",
      "0           0   AAP7PPBU72QFM   \n",
      "1           1  A2E168DTVGE6SV   \n",
      "2           2  A1ER5AYS3FQ9O3   \n",
      "3           3  A1T17LMQABMBN5   \n",
      "4           4  A3QHJ0FXK33OBE   \n",
      "\n",
      "                                              review  rating  Sentiment  \n",
      "0  This is the best novel I have read in 2 or 3 y...     5.0        1.0  \n",
      "1  Pages and pages of introspection, in the style...     3.0        0.0  \n",
      "2  This is the kind of novel to read when you hav...     5.0        1.0  \n",
      "3  What gorgeous language! What an incredible wri...     5.0        1.0  \n",
      "4  I was taken in by reviews that compared this b...     3.0        0.0  \n"
     ]
    }
   ],
   "source": [
    "df = pd.read_csv(\"processedData.csv\",nrows = 100000)\n",
    "print(df.head(5))"
   ]
  },
  {
   "cell_type": "code",
   "execution_count": 17,
   "metadata": {
    "colab": {},
    "colab_type": "code",
    "id": "PsLtdqAekMrc"
   },
   "outputs": [],
   "source": [
    "import re\n",
    "\n",
    "df = df.reset_index(drop=True)\n",
    "REPLACE_BY_SPACE_RE = re.compile('[/(){}\\[\\]\\|@,;]')\n",
    "BAD_SYMBOLS_RE = re.compile('[^0-9a-z #+_]')\n",
    "STOPWORDS = set(stopwords.words('english'))\n",
    "\n",
    "def clean_text(text):\n",
    "    \"\"\"\n",
    "        text: a string\n",
    "        \n",
    "        return: modified initial string\n",
    "    \"\"\"\n",
    "    text = text.lower() # lowercase text\n",
    "    text = REPLACE_BY_SPACE_RE.sub(' ', text) # replace REPLACE_BY_SPACE_RE symbols by space in text. substitute the matched string in REPLACE_BY_SPACE_RE with space.\n",
    "    text = BAD_SYMBOLS_RE.sub('', text) # remove symbols which are in BAD_SYMBOLS_RE from text. substitute the matched string in BAD_SYMBOLS_RE with nothing. \n",
    "    text = text.replace('x', '')\n",
    "#    text = re.sub(r'\\W+', '', text)\n",
    "    text = ' '.join(word for word in text.split() if word not in STOPWORDS) # remove stopwors from text\n",
    "    return text\n",
    "df['reviewFinal'] = df['review'].apply(clean_text)\n",
    "df['reviewFinal'] = df['review'].str.replace('\\d+', '')"
   ]
  },
  {
   "cell_type": "code",
   "execution_count": 18,
   "metadata": {
    "colab": {},
    "colab_type": "code",
    "id": "L2MDUiK5kRSI"
   },
   "outputs": [],
   "source": [
    "from keras.preprocessing.text import Tokenizer\n",
    "from keras.preprocessing.sequence import pad_sequences"
   ]
  },
  {
   "cell_type": "code",
   "execution_count": 19,
   "metadata": {
    "colab": {},
    "colab_type": "code",
    "id": "e8wFwOfjkUDL"
   },
   "outputs": [
    {
     "name": "stdout",
     "output_type": "stream",
     "text": [
      "Found 58661 unique tokens.\n"
     ]
    }
   ],
   "source": [
    "MAX_NB_WORDS = 500000              #vary absed on size of dataset\n",
    "# Max number of words in each complaint.\n",
    "MAX_SEQUENCE_LENGTH = 250\n",
    "# This is fixed.\n",
    "EMBEDDING_DIM = 15\n",
    "tokenizer = Tokenizer(num_words=MAX_NB_WORDS, filters='!\"#$%&()*+,-./:;<=>?@[\\]^_`{|}~', lower=True)\n",
    "tokenizer.fit_on_texts(df['reviewFinal'].values)\n",
    "word_index = tokenizer.word_index\n",
    "print('Found %s unique tokens.' % len(word_index))"
   ]
  },
  {
   "cell_type": "code",
   "execution_count": 20,
   "metadata": {
    "colab": {},
    "colab_type": "code",
    "id": "WPseAy1GkUmA"
   },
   "outputs": [
    {
     "name": "stdout",
     "output_type": "stream",
     "text": [
      "Shape of data tensor: (100000, 250)\n"
     ]
    }
   ],
   "source": [
    "X = tokenizer.texts_to_sequences(df['reviewFinal'].values)\n",
    "X = pad_sequences(X, maxlen=MAX_SEQUENCE_LENGTH)\n",
    "print('Shape of data tensor:', X.shape)"
   ]
  },
  {
   "cell_type": "code",
   "execution_count": 21,
   "metadata": {
    "colab": {},
    "colab_type": "code",
    "id": "G5bmGdbTkVBO"
   },
   "outputs": [
    {
     "name": "stdout",
     "output_type": "stream",
     "text": [
      "Shape of label tensor: (100000, 3)\n"
     ]
    }
   ],
   "source": [
    "Y = pd.get_dummies(df['Sentiment']).values\n",
    "print('Shape of label tensor:', Y.shape)"
   ]
  },
  {
   "cell_type": "code",
   "execution_count": 22,
   "metadata": {
    "colab": {},
    "colab_type": "code",
    "id": "IRJKfBq0kotB"
   },
   "outputs": [
    {
     "name": "stdout",
     "output_type": "stream",
     "text": [
      "(80000, 250) (80000, 3)\n",
      "(20000, 250) (20000, 3)\n"
     ]
    }
   ],
   "source": [
    "from sklearn.model_selection import train_test_split\n",
    "\n",
    "X_train, X_test, Y_train, Y_test = train_test_split(X,Y, test_size = 0.20, random_state = 42)\n",
    "print(X_train.shape,Y_train.shape)\n",
    "print(X_test.shape,Y_test.shape)"
   ]
  },
  {
   "cell_type": "code",
   "execution_count": 23,
   "metadata": {
    "colab": {},
    "colab_type": "code",
    "id": "Ga2XveVkkpF9"
   },
   "outputs": [
    {
     "name": "stderr",
     "output_type": "stream",
     "text": [
      "C:\\Users\\Harold\\anaconda3\\envs\\python37\\lib\\site-packages\\tensorflow_core\\python\\framework\\indexed_slices.py:433: UserWarning: Converting sparse IndexedSlices to a dense Tensor of unknown shape. This may consume a large amount of memory.\n",
      "  \"Converting sparse IndexedSlices to a dense Tensor of unknown shape. \"\n"
     ]
    },
    {
     "name": "stdout",
     "output_type": "stream",
     "text": [
      "Train on 72000 samples, validate on 8000 samples\n",
      "Epoch 1/15\n",
      "72000/72000 [==============================] - 940s 13ms/step - loss: 0.4646 - accuracy: 0.8508 - val_loss: 0.4036 - val_accuracy: 0.8630\n",
      "Epoch 2/15\n",
      "72000/72000 [==============================] - 868s 12ms/step - loss: 0.3679 - accuracy: 0.8745 - val_loss: 0.3684 - val_accuracy: 0.8734\n",
      "Epoch 3/15\n",
      "72000/72000 [==============================] - 877s 12ms/step - loss: 0.3335 - accuracy: 0.8822 - val_loss: 0.3690 - val_accuracy: 0.8735\n",
      "Epoch 4/15\n",
      "72000/72000 [==============================] - 867s 12ms/step - loss: 0.3067 - accuracy: 0.8908 - val_loss: 0.3734 - val_accuracy: 0.8770\n",
      "Epoch 5/15\n",
      "72000/72000 [==============================] - 868s 12ms/step - loss: 0.2860 - accuracy: 0.8967 - val_loss: 0.3700 - val_accuracy: 0.8714\n"
     ]
    }
   ],
   "source": [
    "from keras.models import Sequential\n",
    "from keras.layers import Input, Dense, Embedding, SpatialDropout1D, add, concatenate\n",
    "from keras.layers.recurrent import LSTM\n",
    "from keras.callbacks import ModelCheckpoint, EarlyStopping\n",
    "\n",
    "model = Sequential()\n",
    "model.add(Embedding(MAX_NB_WORDS, EMBEDDING_DIM, input_length=X.shape[1]))\n",
    "model.add(SpatialDropout1D(0.2))\n",
    "model.add(LSTM(15, dropout=0.2, recurrent_dropout=0.2))\n",
    "model.add(Dense(3, activation='softmax'))\n",
    "model.compile(loss='categorical_crossentropy', optimizer='adam', metrics=['accuracy'])\n",
    "\n",
    "epochs = 15\n",
    "batch_size = 32\n",
    "\n",
    "history = model.fit(X_train, Y_train, epochs=epochs, batch_size=batch_size,validation_split=0.1,callbacks=[EarlyStopping(monitor='val_loss', patience=3, min_delta=0.0001)])"
   ]
  },
  {
   "cell_type": "code",
   "execution_count": 24,
   "metadata": {
    "colab": {},
    "colab_type": "code",
    "id": "JdYW2cjTkpl_"
   },
   "outputs": [
    {
     "name": "stdout",
     "output_type": "stream",
     "text": [
      "20000/20000 [==============================] - 44s 2ms/step\n",
      "Test set\n",
      "  Loss: 0.353\n",
      "  Accuracy: 0.872\n"
     ]
    }
   ],
   "source": [
    "accr = model.evaluate(X_test,Y_test)\n",
    "print('Test set\\n  Loss: {:0.3f}\\n  Accuracy: {:0.3f}'.format(accr[0],accr[1]))"
   ]
  },
  {
   "cell_type": "code",
   "execution_count": 25,
   "metadata": {},
   "outputs": [],
   "source": [
    "#making predictions using LSTM\n",
    "y_hat = model.predict(X_test)\n"
   ]
  },
  {
   "cell_type": "code",
   "execution_count": 26,
   "metadata": {},
   "outputs": [],
   "source": [
    "y_hat_class = model.predict_classes(X_test)"
   ]
  },
  {
   "cell_type": "code",
   "execution_count": 27,
   "metadata": {},
   "outputs": [],
   "source": [
    "y_pred_list = y_hat_class.tolist()"
   ]
  },
  {
   "cell_type": "code",
   "execution_count": 28,
   "metadata": {},
   "outputs": [],
   "source": [
    "y_test = []\n",
    "for i in Y_test:\n",
    "    y_test.append(np.argmax(i))"
   ]
  },
  {
   "cell_type": "code",
   "execution_count": 29,
   "metadata": {
    "scrolled": true
   },
   "outputs": [
    {
     "name": "stdout",
     "output_type": "stream",
     "text": [
      "[2, 2, 2, 2, 2]\n",
      "[2, 2, 2, 2, 2]\n"
     ]
    }
   ],
   "source": [
    "print(y_pred_list[:5])\n",
    "print(y_test[:5])"
   ]
  },
  {
   "cell_type": "code",
   "execution_count": 30,
   "metadata": {},
   "outputs": [
    {
     "name": "stdout",
     "output_type": "stream",
     "text": [
      "\n",
      "Accuracy on validation set: 0.8718\n",
      "\n",
      "Classification report : \n",
      "               precision    recall  f1-score   support\n",
      "\n",
      "           0       0.56      0.65      0.60      1747\n",
      "           1       0.32      0.10      0.15      1377\n",
      "           2       0.92      0.96      0.94     16876\n",
      "\n",
      "    accuracy                           0.87     20000\n",
      "   macro avg       0.60      0.57      0.56     20000\n",
      "weighted avg       0.85      0.87      0.86     20000\n",
      "\n",
      "\n",
      "Confusion Matrix : \n",
      " [[ 1134    77   536]\n",
      " [  373   135   869]\n",
      " [  503   206 16167]]\n"
     ]
    }
   ],
   "source": [
    "modelEvaluation(y_pred_list,y_test)"
   ]
  },
  {
   "cell_type": "code",
   "execution_count": 31,
   "metadata": {},
   "outputs": [
    {
     "name": "stdout",
     "output_type": "stream",
     "text": [
      "Requirement already satisfied: matplotlib in c:\\users\\harold\\anaconda3\\envs\\python37\\lib\\site-packages (3.3.0)\n",
      "Requirement already satisfied: pyparsing!=2.0.4,!=2.1.2,!=2.1.6,>=2.0.3 in c:\\users\\harold\\anaconda3\\envs\\python37\\lib\\site-packages (from matplotlib) (2.4.7)\n",
      "Requirement already satisfied: cycler>=0.10 in c:\\users\\harold\\anaconda3\\envs\\python37\\lib\\site-packages (from matplotlib) (0.10.0)\n",
      "Requirement already satisfied: python-dateutil>=2.1 in c:\\users\\harold\\anaconda3\\envs\\python37\\lib\\site-packages (from matplotlib) (2.8.1)\n",
      "Requirement already satisfied: pillow>=6.2.0 in c:\\users\\harold\\anaconda3\\envs\\python37\\lib\\site-packages (from matplotlib) (7.2.0)\n",
      "Requirement already satisfied: numpy>=1.15 in c:\\users\\harold\\anaconda3\\envs\\python37\\lib\\site-packages (from matplotlib) (1.19.1)\n",
      "Requirement already satisfied: kiwisolver>=1.0.1 in c:\\users\\harold\\anaconda3\\envs\\python37\\lib\\site-packages (from matplotlib) (1.2.0)\n",
      "Requirement already satisfied: six in c:\\users\\harold\\anaconda3\\envs\\python37\\lib\\site-packages (from cycler>=0.10->matplotlib) (1.15.0)\n"
     ]
    }
   ],
   "source": [
    "!pip install matplotlib"
   ]
  },
  {
   "cell_type": "code",
   "execution_count": 32,
   "metadata": {},
   "outputs": [],
   "source": [
    "import matplotlib.pyplot as plt\n",
    "%matplotlib inline"
   ]
  },
  {
   "cell_type": "code",
   "execution_count": 33,
   "metadata": {},
   "outputs": [
    {
     "name": "stdout",
     "output_type": "stream",
     "text": [
      "dict_keys(['val_loss', 'val_accuracy', 'loss', 'accuracy'])\n"
     ]
    },
    {
     "data": {
      "image/png": "[encoded data removed]",
      "text/plain": [
       "<Figure size 432x288 with 1 Axes>"
      ]
     },
     "metadata": {
      "needs_background": "light"
     },
     "output_type": "display_data"
    },
    {
     "data": {
      "image/png": "[encoded data removed]",
      "text/plain": [
       "<Figure size 432x288 with 1 Axes>"
      ]
     },
     "metadata": {
      "needs_background": "light"
     },
     "output_type": "display_data"
    }
   ],
   "source": [
    "#plotting curves for LSTM\n",
    "\n",
    "print(history.history.keys())\n",
    "#  \"Accuracy\"\n",
    "plt.plot(history.history['accuracy'])\n",
    "plt.plot(history.history['val_accuracy'])\n",
    "plt.title('model accuracy')\n",
    "plt.ylabel('accuracy')\n",
    "plt.xlabel('epoch')\n",
    "plt.legend(['train', 'validation'], loc='upper left')\n",
    "plt.show()\n",
    "# \"Loss\"\n",
    "plt.plot(history.history['loss'])\n",
    "plt.plot(history.history['val_loss'])\n",
    "plt.title('model loss')\n",
    "plt.ylabel('loss')\n",
    "plt.xlabel('epoch')\n",
    "plt.legend(['train', 'validation'], loc='upper left')\n",
    "plt.show()"
   ]
  },
  {
   "cell_type": "markdown",
   "metadata": {
    "colab_type": "text",
    "id": "mQqgpEaqkzc4"
   },
   "source": [
    "# Step 10:\n",
    "\n",
    "## *Recurrent Neural Networks*"
   ]
  },
  {
   "cell_type": "code",
   "execution_count": 34,
   "metadata": {
    "colab": {},
    "colab_type": "code",
    "id": "TgelAcSMuCaq"
   },
   "outputs": [
    {
     "name": "stdout",
     "output_type": "stream",
     "text": [
      "Total 400000 word vectors in Glove 6B 100d.\n"
     ]
    }
   ],
   "source": [
    "embeddings_index = {}\n",
    "f = open('glove.6B.100d.txt',encoding='utf8')\n",
    "for line in f:\n",
    "    values = line.split()\n",
    "    word = values[0]\n",
    "    coefs = np.asarray(values[1:], dtype='float32')\n",
    "    embeddings_index[word] = coefs\n",
    "f.close()\n",
    "\n",
    "print('Total %s word vectors in Glove 6B 100d.' % len(embeddings_index))\n"
   ]
  },
  {
   "cell_type": "code",
   "execution_count": 35,
   "metadata": {},
   "outputs": [],
   "source": [
    "EMBEDDING_DIM = 100"
   ]
  },
  {
   "cell_type": "code",
   "execution_count": 36,
   "metadata": {
    "colab": {},
    "colab_type": "code",
    "id": "wKXjNoEouE6C"
   },
   "outputs": [],
   "source": [
    "embedding_matrix = np.random.random((len(word_index) + 1, EMBEDDING_DIM))\n",
    "for word, i in word_index.items():\n",
    "    embedding_vector = embeddings_index.get(word)\n",
    "    if embedding_vector is not None:\n",
    "        # words not found in embedding index will be all-zeros.\n",
    "        embedding_matrix[i] = embedding_vector\n",
    "\n",
    "\n",
    "embedding_layer = Embedding(len(word_index) + 1,\n",
    "                            EMBEDDING_DIM,\n",
    "                            weights=[embedding_matrix],\n",
    "                            input_length=MAX_SEQUENCE_LENGTH,\n",
    "                            trainable=True)\n"
   ]
  },
  {
   "cell_type": "code",
   "execution_count": 37,
   "metadata": {},
   "outputs": [],
   "source": [
    "from keras.layers import Conv1D, MaxPooling1D, Embedding, Dropout, LSTM, GRU, Bidirectional\n",
    "from keras.models import Model\n",
    "from keras.callbacks import ModelCheckpoint\n",
    "import matplotlib.pyplot as plt\n",
    "from keras import backend as K\n",
    "from keras.engine.topology import Layer, InputSpec\n",
    "from keras import initializers\n",
    "%matplotlib inline\n"
   ]
  },
  {
   "cell_type": "code",
   "execution_count": 38,
   "metadata": {
    "colab": {},
    "colab_type": "code",
    "id": "7n-3QLbluKjO"
   },
   "outputs": [
    {
     "name": "stdout",
     "output_type": "stream",
     "text": [
      "Bidirectional LSTM\n",
      "Model: \"model_1\"\n",
      "_________________________________________________________________\n",
      "Layer (type)                 Output Shape              Param #   \n",
      "=================================================================\n",
      "input_1 (InputLayer)         (None, 250)               0         \n",
      "_________________________________________________________________\n",
      "embedding_2 (Embedding)      (None, 250, 100)          5866200   \n",
      "_________________________________________________________________\n",
      "bidirectional_1 (Bidirection (None, 200)               160800    \n",
      "_________________________________________________________________\n",
      "dense_2 (Dense)              (None, 3)                 603       \n",
      "=================================================================\n",
      "Total params: 6,027,603\n",
      "Trainable params: 6,027,603\n",
      "Non-trainable params: 0\n",
      "_________________________________________________________________\n"
     ]
    }
   ],
   "source": [
    "sequence_input = Input(shape=(MAX_SEQUENCE_LENGTH,), dtype='int32')\n",
    "embedded_sequences = embedding_layer(sequence_input)\n",
    "l_lstm = Bidirectional(LSTM(100))(embedded_sequences)\n",
    "preds = Dense(3, activation='softmax')(l_lstm)\n",
    "model = Model(sequence_input, preds)\n",
    "model.compile(loss='categorical_crossentropy',\n",
    "              optimizer='rmsprop',\n",
    "              metrics=['acc'])\n",
    "\n",
    "print(\"Bidirectional LSTM\")\n",
    "model.summary()"
   ]
  },
  {
   "cell_type": "code",
   "execution_count": 39,
   "metadata": {
    "colab": {},
    "colab_type": "code",
    "id": "-ouAQ7f6uPyd"
   },
   "outputs": [
    {
     "name": "stderr",
     "output_type": "stream",
     "text": [
      "C:\\Users\\Harold\\anaconda3\\envs\\python37\\lib\\site-packages\\tensorflow_core\\python\\framework\\indexed_slices.py:433: UserWarning: Converting sparse IndexedSlices to a dense Tensor of unknown shape. This may consume a large amount of memory.\n",
      "  \"Converting sparse IndexedSlices to a dense Tensor of unknown shape. \"\n"
     ]
    },
    {
     "name": "stdout",
     "output_type": "stream",
     "text": [
      "Train on 72000 samples, validate on 8000 samples\n",
      "Epoch 1/15\n",
      "72000/72000 [==============================] - 790s 11ms/step - loss: 0.4174 - acc: 0.8568 - val_loss: 0.3651 - val_acc: 0.8751\n",
      "\n",
      "Epoch 00001: val_acc improved from -inf to 0.87512, saving model to model_rnn.hdf5\n",
      "Epoch 2/15\n",
      "72000/72000 [==============================] - 790s 11ms/step - loss: 0.3217 - acc: 0.8861 - val_loss: 0.3363 - val_acc: 0.8808\n",
      "\n",
      "Epoch 00002: val_acc improved from 0.87512 to 0.88075, saving model to model_rnn.hdf5\n",
      "Epoch 3/15\n",
      "72000/72000 [==============================] - 790s 11ms/step - loss: 0.2843 - acc: 0.8979 - val_loss: 0.3195 - val_acc: 0.8901\n",
      "\n",
      "Epoch 00003: val_acc improved from 0.88075 to 0.89012, saving model to model_rnn.hdf5\n",
      "Epoch 4/15\n",
      "72000/72000 [==============================] - 791s 11ms/step - loss: 0.2586 - acc: 0.9067 - val_loss: 0.3195 - val_acc: 0.8886\n",
      "\n",
      "Epoch 00004: val_acc did not improve from 0.89012\n",
      "Epoch 5/15\n",
      "72000/72000 [==============================] - 794s 11ms/step - loss: 0.2359 - acc: 0.9148 - val_loss: 0.3197 - val_acc: 0.8910\n",
      "\n",
      "Epoch 00005: val_acc improved from 0.89012 to 0.89100, saving model to model_rnn.hdf5\n",
      "Epoch 6/15\n",
      "72000/72000 [==============================] - 793s 11ms/step - loss: 0.2123 - acc: 0.9244 - val_loss: 0.3244 - val_acc: 0.8899\n",
      "\n",
      "Epoch 00006: val_acc did not improve from 0.89100\n",
      "Epoch 7/15\n",
      "72000/72000 [==============================] - 795s 11ms/step - loss: 0.1879 - acc: 0.9336 - val_loss: 0.3588 - val_acc: 0.8892\n",
      "\n",
      "Epoch 00007: val_acc did not improve from 0.89100\n",
      "Epoch 8/15\n",
      "72000/72000 [==============================] - 795s 11ms/step - loss: 0.1637 - acc: 0.9434 - val_loss: 0.3698 - val_acc: 0.8780\n",
      "\n",
      "Epoch 00008: val_acc did not improve from 0.89100\n",
      "Epoch 9/15\n",
      "72000/72000 [==============================] - 796s 11ms/step - loss: 0.1402 - acc: 0.9521 - val_loss: 0.3808 - val_acc: 0.8846\n",
      "\n",
      "Epoch 00009: val_acc did not improve from 0.89100\n",
      "Epoch 10/15\n",
      "72000/72000 [==============================] - 796s 11ms/step - loss: 0.1191 - acc: 0.9598 - val_loss: 0.4355 - val_acc: 0.8819\n",
      "\n",
      "Epoch 00010: val_acc did not improve from 0.89100\n",
      "Epoch 11/15\n",
      "72000/72000 [==============================] - 797s 11ms/step - loss: 0.0987 - acc: 0.9672 - val_loss: 0.4594 - val_acc: 0.8752\n",
      "\n",
      "Epoch 00011: val_acc did not improve from 0.89100\n",
      "Epoch 12/15\n",
      "72000/72000 [==============================] - 796s 11ms/step - loss: 0.0828 - acc: 0.9737 - val_loss: 0.5091 - val_acc: 0.8763\n",
      "\n",
      "Epoch 00012: val_acc did not improve from 0.89100\n",
      "Epoch 13/15\n",
      "72000/72000 [==============================] - 797s 11ms/step - loss: 0.0674 - acc: 0.9794 - val_loss: 0.5592 - val_acc: 0.8764\n",
      "\n",
      "Epoch 00013: val_acc did not improve from 0.89100\n",
      "Epoch 14/15\n",
      "72000/72000 [==============================] - 801s 11ms/step - loss: 0.0561 - acc: 0.9834 - val_loss: 0.6339 - val_acc: 0.8675\n",
      "\n",
      "Epoch 00014: val_acc did not improve from 0.89100\n",
      "Epoch 15/15\n",
      "72000/72000 [==============================] - 810s 11ms/step - loss: 0.0476 - acc: 0.9857 - val_loss: 0.6465 - val_acc: 0.8720\n",
      "\n",
      "Epoch 00015: val_acc did not improve from 0.89100\n"
     ]
    }
   ],
   "source": [
    "cp=ModelCheckpoint('model_rnn.hdf5',monitor='val_acc',verbose=1,save_best_only=True)\n",
    "history=model.fit(X_train, Y_train, validation_split=0.1,epochs=15, batch_size=64,callbacks=[cp])"
   ]
  },
  {
   "cell_type": "code",
   "execution_count": 40,
   "metadata": {},
   "outputs": [],
   "source": [
    "#making predictions using RNN\n",
    "y_hat = model.predict(X_test)\n"
   ]
  },
  {
   "cell_type": "code",
   "execution_count": 41,
   "metadata": {},
   "outputs": [
    {
     "name": "stdout",
     "output_type": "stream",
     "text": [
      "[[1.61202269e-08 9.49052992e-05 9.99905109e-01]\n",
      " [5.95531083e-06 1.52459824e-02 9.84748065e-01]\n",
      " [1.11748406e-07 6.16432771e-06 9.99993682e-01]\n",
      " [1.91755788e-07 3.85143767e-06 9.99995947e-01]\n",
      " [6.68301325e-08 7.26460665e-03 9.92735386e-01]]\n",
      "[2, 2, 2, 2, 2]\n"
     ]
    }
   ],
   "source": [
    "print(y_hat[:5])\n",
    "\n",
    "y_pred_list = []\n",
    "\n",
    "for i in y_hat:\n",
    "    y_pred_list.append(np.argmax(i))\n",
    "    \n",
    "print(y_pred_list[:5])"
   ]
  },
  {
   "cell_type": "code",
   "execution_count": 42,
   "metadata": {},
   "outputs": [],
   "source": [
    "y_test = []\n",
    "for i in Y_test:\n",
    "    y_test.append(np.argmax(i))"
   ]
  },
  {
   "cell_type": "code",
   "execution_count": 43,
   "metadata": {
    "scrolled": true
   },
   "outputs": [
    {
     "name": "stdout",
     "output_type": "stream",
     "text": [
      "[2, 2, 2, 2, 2]\n",
      "[2, 2, 2, 2, 2]\n"
     ]
    }
   ],
   "source": [
    "print(y_pred_list[:5])\n",
    "print(y_test[:5])"
   ]
  },
  {
   "cell_type": "code",
   "execution_count": 44,
   "metadata": {},
   "outputs": [
    {
     "name": "stdout",
     "output_type": "stream",
     "text": [
      "\n",
      "Accuracy on validation set: 0.8756\n",
      "\n",
      "Classification report : \n",
      "               precision    recall  f1-score   support\n",
      "\n",
      "           0       0.69      0.62      0.66      1747\n",
      "           1       0.33      0.36      0.35      1377\n",
      "           2       0.94      0.94      0.94     16876\n",
      "\n",
      "    accuracy                           0.88     20000\n",
      "   macro avg       0.66      0.64      0.65     20000\n",
      "weighted avg       0.88      0.88      0.88     20000\n",
      "\n",
      "\n",
      "Confusion Matrix : \n",
      " [[ 1089   326   332]\n",
      " [  209   502   666]\n",
      " [  270   685 15921]]\n"
     ]
    }
   ],
   "source": [
    "modelEvaluation(y_pred_list,y_test)"
   ]
  },
  {
   "cell_type": "code",
   "execution_count": 45,
   "metadata": {},
   "outputs": [
    {
     "name": "stdout",
     "output_type": "stream",
     "text": [
      "Accuracy is :  0.8756\n"
     ]
    }
   ],
   "source": [
    "print(\"Accuracy is : \",accuracy_score(y_test, y_pred_list))"
   ]
  },
  {
   "cell_type": "code",
   "execution_count": 46,
   "metadata": {
    "colab": {},
    "colab_type": "code",
    "id": "FEisrzXwuSTZ"
   },
   "outputs": [
    {
     "data": {
      "image/png": "[encoded data removed]",
      "text/plain": [
       "<Figure size 432x288 with 1 Axes>"
      ]
     },
     "metadata": {
      "needs_background": "light"
     },
     "output_type": "display_data"
    }
   ],
   "source": [
    "\n",
    "fig1 = plt.figure()\n",
    "plt.plot(history.history['loss'],'r',linewidth=3.0)\n",
    "plt.plot(history.history['val_loss'],'b',linewidth=3.0)\n",
    "plt.legend(['Training loss', 'Validation Loss'],fontsize=18)\n",
    "plt.xlabel('Epochs ',fontsize=16)\n",
    "plt.ylabel('Loss',fontsize=16)\n",
    "plt.title('Loss Curves :RNN',fontsize=16)\n",
    "fig1.savefig('loss_rnn.png')\n",
    "plt.show()"
   ]
  },
  {
   "cell_type": "code",
   "execution_count": 47,
   "metadata": {
    "colab": {},
    "colab_type": "code",
    "id": "RNTTqgf2uT_W",
    "scrolled": true
   },
   "outputs": [
    {
     "data": {
      "image/png": "[encoded data removed]",
      "text/plain": [
       "<Figure size 432x288 with 1 Axes>"
      ]
     },
     "metadata": {
      "needs_background": "light"
     },
     "output_type": "display_data"
    }
   ],
   "source": [
    "fig2=plt.figure()\n",
    "plt.plot(history.history['acc'],'r',linewidth=3.0)\n",
    "plt.plot(history.history['val_acc'],'b',linewidth=3.0)\n",
    "plt.legend(['Training Accuracy', 'Validation Accuracy'],fontsize=18)\n",
    "plt.xlabel('Epochs ',fontsize=16)\n",
    "plt.ylabel('Accuracy',fontsize=16)\n",
    "plt.title('Accuracy Curves : RNN',fontsize=16)\n",
    "fig2.savefig('accuracy_rnn.png')\n",
    "plt.show()"
   ]
  },
  {
   "cell_type": "code",
   "execution_count": null,
   "metadata": {},
   "outputs": [],
   "source": []
  },
  {
   "cell_type": "markdown",
   "metadata": {
    "colab_type": "text",
    "id": "VoLWvHjrblTY"
   },
   "source": [
    "# Step 11:\n",
    "\n",
    "## *CNN*"
   ]
  },
  {
   "cell_type": "markdown",
   "metadata": {
    "colab_type": "text",
    "id": "qKHCEaedfM8c"
   },
   "source": [
    "### Define CNN model"
   ]
  },
  {
   "cell_type": "code",
   "execution_count": 48,
   "metadata": {},
   "outputs": [],
   "source": [
    "from keras.layers import Dense, Dropout, Reshape, Flatten, concatenate, Input, Conv1D, GlobalMaxPooling1D, Embedding"
   ]
  },
  {
   "cell_type": "code",
   "execution_count": 49,
   "metadata": {
    "colab": {},
    "colab_type": "code",
    "id": "0RNfRzGofNcP"
   },
   "outputs": [],
   "source": [
    "def ConvNet(embeddings, max_sequence_length, num_words, embedding_dim, labels_index):\n",
    "    \n",
    "    embedding_layer = Embedding(num_words,\n",
    "                            embedding_dim,\n",
    "                            weights=[embeddings],\n",
    "                            input_length=max_sequence_length,\n",
    "                            trainable=False)\n",
    "    \n",
    "    sequence_input = Input(shape=(max_sequence_length,), dtype='int32')\n",
    "    embedded_sequences = embedding_layer(sequence_input)\n",
    "\n",
    "    convs = []\n",
    "    filter_sizes = [2,3,4,5,6]\n",
    "\n",
    "    for filter_size in filter_sizes:\n",
    "        l_conv = Conv1D(filters=200, kernel_size=filter_size, activation='relu')(embedded_sequences)\n",
    "        l_pool = GlobalMaxPooling1D()(l_conv)\n",
    "        convs.append(l_pool)\n",
    "\n",
    "\n",
    "    l_merge = concatenate(convs, axis=1)\n",
    "\n",
    "    x = Dropout(0.1)(l_merge)  \n",
    "    x = Dense(128, activation='relu')(x)\n",
    "    x = Dropout(0.2)(x)\n",
    "    preds = Dense(labels_index, activation='sigmoid')(x)\n",
    "\n",
    "    model = Model(sequence_input, preds)\n",
    "    model.compile(loss='binary_crossentropy',\n",
    "                  optimizer='adam',\n",
    "                  metrics=['acc'])\n",
    "    print(model.summary())\n",
    "    return model"
   ]
  },
  {
   "cell_type": "code",
   "execution_count": null,
   "metadata": {
    "colab": {},
    "colab_type": "code",
    "id": "ayBDfla0f3vg"
   },
   "outputs": [],
   "source": [
    "# label_names = ['Pos', 'Neg', 'Neu']\n",
    "# y_train = data_train[label_names].values\n",
    "# x_train = train_cnn_data\n",
    "# y_tr = y_train"
   ]
  },
  {
   "cell_type": "code",
   "execution_count": 50,
   "metadata": {
    "colab": {},
    "colab_type": "code",
    "id": "8CP_QQe_gCO_"
   },
   "outputs": [
    {
     "name": "stdout",
     "output_type": "stream",
     "text": [
      "Model: \"model_2\"\n",
      "__________________________________________________________________________________________________\n",
      "Layer (type)                    Output Shape         Param #     Connected to                     \n",
      "==================================================================================================\n",
      "input_2 (InputLayer)            (None, 250)          0                                            \n",
      "__________________________________________________________________________________________________\n",
      "embedding_3 (Embedding)         (None, 250, 100)     5866200     input_2[0][0]                    \n",
      "__________________________________________________________________________________________________\n",
      "conv1d_1 (Conv1D)               (None, 249, 200)     40200       embedding_3[0][0]                \n",
      "__________________________________________________________________________________________________\n",
      "conv1d_2 (Conv1D)               (None, 248, 200)     60200       embedding_3[0][0]                \n",
      "__________________________________________________________________________________________________\n",
      "conv1d_3 (Conv1D)               (None, 247, 200)     80200       embedding_3[0][0]                \n",
      "__________________________________________________________________________________________________\n",
      "conv1d_4 (Conv1D)               (None, 246, 200)     100200      embedding_3[0][0]                \n",
      "__________________________________________________________________________________________________\n",
      "conv1d_5 (Conv1D)               (None, 245, 200)     120200      embedding_3[0][0]                \n",
      "__________________________________________________________________________________________________\n",
      "global_max_pooling1d_1 (GlobalM (None, 200)          0           conv1d_1[0][0]                   \n",
      "__________________________________________________________________________________________________\n",
      "global_max_pooling1d_2 (GlobalM (None, 200)          0           conv1d_2[0][0]                   \n",
      "__________________________________________________________________________________________________\n",
      "global_max_pooling1d_3 (GlobalM (None, 200)          0           conv1d_3[0][0]                   \n",
      "__________________________________________________________________________________________________\n",
      "global_max_pooling1d_4 (GlobalM (None, 200)          0           conv1d_4[0][0]                   \n",
      "__________________________________________________________________________________________________\n",
      "global_max_pooling1d_5 (GlobalM (None, 200)          0           conv1d_5[0][0]                   \n",
      "__________________________________________________________________________________________________\n",
      "concatenate_1 (Concatenate)     (None, 1000)         0           global_max_pooling1d_1[0][0]     \n",
      "                                                                 global_max_pooling1d_2[0][0]     \n",
      "                                                                 global_max_pooling1d_3[0][0]     \n",
      "                                                                 global_max_pooling1d_4[0][0]     \n",
      "                                                                 global_max_pooling1d_5[0][0]     \n",
      "__________________________________________________________________________________________________\n",
      "dropout_1 (Dropout)             (None, 1000)         0           concatenate_1[0][0]              \n",
      "__________________________________________________________________________________________________\n",
      "dense_3 (Dense)                 (None, 128)          128128      dropout_1[0][0]                  \n",
      "__________________________________________________________________________________________________\n",
      "dropout_2 (Dropout)             (None, 128)          0           dense_3[0][0]                    \n",
      "__________________________________________________________________________________________________\n",
      "dense_4 (Dense)                 (None, 3)            387         dropout_2[0][0]                  \n",
      "==================================================================================================\n",
      "Total params: 6,395,715\n",
      "Trainable params: 529,515\n",
      "Non-trainable params: 5,866,200\n",
      "__________________________________________________________________________________________________\n",
      "None\n"
     ]
    }
   ],
   "source": [
    "model = ConvNet(embedding_matrix, MAX_SEQUENCE_LENGTH, len(word_index)+1, EMBEDDING_DIM, 3)"
   ]
  },
  {
   "cell_type": "markdown",
   "metadata": {
    "colab_type": "text",
    "id": "YmfJ5J5LgJ6Q"
   },
   "source": [
    "### Train CNN"
   ]
  },
  {
   "cell_type": "code",
   "execution_count": 51,
   "metadata": {
    "colab": {},
    "colab_type": "code",
    "id": "WfVzwvn5gKiX"
   },
   "outputs": [],
   "source": [
    "num_epochs = 15\n",
    "batch_size = 64"
   ]
  },
  {
   "cell_type": "code",
   "execution_count": 52,
   "metadata": {
    "colab": {},
    "colab_type": "code",
    "id": "X1T4lfyRgNWm"
   },
   "outputs": [
    {
     "name": "stdout",
     "output_type": "stream",
     "text": [
      "Train on 72000 samples, validate on 8000 samples\n",
      "Epoch 1/15\n",
      "72000/72000 [==============================] - 185s 3ms/step - loss: 0.2618 - acc: 0.9024 - val_loss: 0.2196 - val_acc: 0.9143\n",
      "Epoch 2/15\n",
      "72000/72000 [==============================] - 175s 2ms/step - loss: 0.2097 - acc: 0.9196 - val_loss: 0.2012 - val_acc: 0.9209\n",
      "Epoch 3/15\n",
      "72000/72000 [==============================] - 175s 2ms/step - loss: 0.1809 - acc: 0.9295 - val_loss: 0.2012 - val_acc: 0.9236\n",
      "Epoch 4/15\n",
      "72000/72000 [==============================] - 175s 2ms/step - loss: 0.1574 - acc: 0.9379 - val_loss: 0.2065 - val_acc: 0.9176\n",
      "Epoch 5/15\n",
      "72000/72000 [==============================] - 175s 2ms/step - loss: 0.1324 - acc: 0.9472 - val_loss: 0.2156 - val_acc: 0.9228\n",
      "Epoch 6/15\n",
      "72000/72000 [==============================] - 175s 2ms/step - loss: 0.1129 - acc: 0.9556 - val_loss: 0.2774 - val_acc: 0.9242\n",
      "Epoch 7/15\n",
      "72000/72000 [==============================] - 175s 2ms/step - loss: 0.0954 - acc: 0.9632 - val_loss: 0.2443 - val_acc: 0.9227\n",
      "Epoch 8/15\n",
      "72000/72000 [==============================] - 175s 2ms/step - loss: 0.0810 - acc: 0.9696 - val_loss: 0.3191 - val_acc: 0.9235\n",
      "Epoch 9/15\n",
      "72000/72000 [==============================] - 175s 2ms/step - loss: 0.0730 - acc: 0.9728 - val_loss: 0.2881 - val_acc: 0.9202\n",
      "Epoch 10/15\n",
      "72000/72000 [==============================] - 175s 2ms/step - loss: 0.0674 - acc: 0.9755 - val_loss: 0.2985 - val_acc: 0.9222\n",
      "Epoch 11/15\n",
      "72000/72000 [==============================] - 175s 2ms/step - loss: 0.0576 - acc: 0.9796 - val_loss: 0.2745 - val_acc: 0.9159\n",
      "Epoch 12/15\n",
      "72000/72000 [==============================] - 175s 2ms/step - loss: 0.0539 - acc: 0.9807 - val_loss: 0.2989 - val_acc: 0.9151\n",
      "Epoch 13/15\n",
      "72000/72000 [==============================] - 175s 2ms/step - loss: 0.0488 - acc: 0.9830 - val_loss: 0.3342 - val_acc: 0.9139\n",
      "Epoch 14/15\n",
      "72000/72000 [==============================] - 175s 2ms/step - loss: 0.0488 - acc: 0.9831 - val_loss: 0.4079 - val_acc: 0.9239\n",
      "Epoch 15/15\n",
      "72000/72000 [==============================] - 175s 2ms/step - loss: 0.0417 - acc: 0.9856 - val_loss: 0.2940 - val_acc: 0.9180\n"
     ]
    }
   ],
   "source": [
    "hist = model.fit(X_train, Y_train, epochs=num_epochs, validation_split=0.1, shuffle=True, batch_size=batch_size)\n"
   ]
  },
  {
   "cell_type": "code",
   "execution_count": 53,
   "metadata": {},
   "outputs": [],
   "source": [
    "predictions = model.predict(X_test)"
   ]
  },
  {
   "cell_type": "code",
   "execution_count": 54,
   "metadata": {},
   "outputs": [
    {
     "name": "stdout",
     "output_type": "stream",
     "text": [
      "[[1.53808969e-06 6.76188138e-05 9.99926567e-01]\n",
      " [3.31541219e-06 4.32064378e-04 9.99511480e-01]\n",
      " [8.39450176e-11 1.14536325e-10 1.00000000e+00]\n",
      " [1.17434773e-08 6.79122625e-09 1.00000000e+00]\n",
      " [1.30038208e-03 5.60288550e-03 9.92873192e-01]]\n",
      "[2, 2, 2, 2, 2]\n"
     ]
    }
   ],
   "source": [
    "print(predictions[:5])\n",
    "\n",
    "y_pred_list = []\n",
    "\n",
    "for i in predictions:\n",
    "    y_pred_list.append(np.argmax(i))\n",
    "    \n",
    "print(y_pred_list[:5])"
   ]
  },
  {
   "cell_type": "code",
   "execution_count": 55,
   "metadata": {},
   "outputs": [],
   "source": [
    "y_test = []\n",
    "for i in Y_test:\n",
    "    y_test.append(np.argmax(i))"
   ]
  },
  {
   "cell_type": "code",
   "execution_count": 56,
   "metadata": {
    "scrolled": true
   },
   "outputs": [
    {
     "name": "stdout",
     "output_type": "stream",
     "text": [
      "[2, 2, 2, 2, 2]\n",
      "[2, 2, 2, 2, 2]\n"
     ]
    }
   ],
   "source": [
    "print(y_pred_list[:5])\n",
    "print(y_test[:5])"
   ]
  },
  {
   "cell_type": "code",
   "execution_count": 57,
   "metadata": {},
   "outputs": [
    {
     "name": "stdout",
     "output_type": "stream",
     "text": [
      "\n",
      "Accuracy on validation set: 0.8781\n",
      "\n",
      "Classification report : \n",
      "               precision    recall  f1-score   support\n",
      "\n",
      "           0       0.64      0.65      0.65      1747\n",
      "           1       0.37      0.30      0.33      1377\n",
      "           2       0.94      0.95      0.94     16876\n",
      "\n",
      "    accuracy                           0.88     20000\n",
      "   macro avg       0.65      0.63      0.64     20000\n",
      "weighted avg       0.87      0.88      0.87     20000\n",
      "\n",
      "\n",
      "Confusion Matrix : \n",
      " [[ 1140   219   388]\n",
      " [  265   416   696]\n",
      " [  381   489 16006]]\n"
     ]
    }
   ],
   "source": [
    "modelEvaluation(y_pred_list,y_test)"
   ]
  },
  {
   "cell_type": "code",
   "execution_count": 58,
   "metadata": {},
   "outputs": [
    {
     "name": "stdout",
     "output_type": "stream",
     "text": [
      "Accuracy is :  0.8781\n"
     ]
    }
   ],
   "source": [
    "print(\"Accuracy is : \",accuracy_score(y_test, y_pred_list))"
   ]
  },
  {
   "cell_type": "code",
   "execution_count": 59,
   "metadata": {
    "colab": {},
    "colab_type": "code",
    "id": "FEisrzXwuSTZ"
   },
   "outputs": [
    {
     "data": {
      "image/png": "[encoded data removed]",
      "text/plain": [
       "<Figure size 432x288 with 1 Axes>"
      ]
     },
     "metadata": {
      "needs_background": "light"
     },
     "output_type": "display_data"
    }
   ],
   "source": [
    "\n",
    "fig1 = plt.figure()\n",
    "plt.plot(hist.history['loss'],'r',linewidth=3.0)\n",
    "plt.plot(hist.history['val_loss'],'b',linewidth=3.0)\n",
    "plt.legend(['Training loss', 'Validation Loss'],fontsize=18)\n",
    "plt.xlabel('Epochs ',fontsize=16)\n",
    "plt.ylabel('Loss',fontsize=16)\n",
    "plt.title('Loss Curves :CNN',fontsize=16)\n",
    "fig1.savefig('loss_cnn.png')\n",
    "plt.show()"
   ]
  },
  {
   "cell_type": "code",
   "execution_count": 60,
   "metadata": {
    "colab": {},
    "colab_type": "code",
    "id": "RNTTqgf2uT_W"
   },
   "outputs": [
    {
     "data": {
      "image/png": "[encoded data removed]",
      "text/plain": [
       "<Figure size 432x288 with 1 Axes>"
      ]
     },
     "metadata": {
      "needs_background": "light"
     },
     "output_type": "display_data"
    }
   ],
   "source": [
    "fig2=plt.figure()\n",
    "plt.plot(hist.history['acc'],'r',linewidth=3.0)\n",
    "plt.plot(hist.history['val_acc'],'b',linewidth=3.0)\n",
    "plt.legend(['Training Accuracy', 'Validation Accuracy'],fontsize=18)\n",
    "plt.xlabel('Epochs ',fontsize=16)\n",
    "plt.ylabel('Accuracy',fontsize=16)\n",
    "plt.title('Accuracy Curves : CNN',fontsize=16)\n",
    "fig2.savefig('accuracy_cnn.png')\n",
    "plt.show()"
   ]
  },
  {
   "cell_type": "markdown",
   "metadata": {
    "colab_type": "text",
    "id": "XTdHZl43x7og"
   },
   "source": [
    "# Step 12\n",
    "# Recursive neural networks (RecNNs)"
   ]
  },
  {
   "cell_type": "markdown",
   "metadata": {},
   "source": [
    "Define the model"
   ]
  },
  {
   "cell_type": "code",
   "execution_count": 61,
   "metadata": {},
   "outputs": [],
   "source": [
    "from keras.layers import Dense, Dropout, Activation"
   ]
  },
  {
   "cell_type": "code",
   "execution_count": 62,
   "metadata": {
    "colab": {},
    "colab_type": "code",
    "id": "2bjLMtJeyHWT"
   },
   "outputs": [],
   "source": [
    "def Build_Model(word_index, embeddings_index, nclasses, MAX_SEQUENCE_LENGTH=250, EMBEDDING_DIM=100):\n",
    "    kernel_size = 2\n",
    "    filters = 256\n",
    "    pool_size = 2\n",
    "    gru_node = 256\n",
    "\n",
    "    embedding_matrix = np.random.random((len(word_index) + 1, EMBEDDING_DIM))\n",
    "    for word, i in word_index.items():\n",
    "        embedding_vector = embeddings_index.get(word)\n",
    "        if embedding_vector is not None:\n",
    "            # words not found in embedding index will be all-zeros.\n",
    "            if len(embedding_matrix[i]) !=len(embedding_vector):\n",
    "                print(\"could not broadcast input array from shape\",str(len(embedding_matrix[i])),\n",
    "                                 \"into shape\",str(len(embedding_vector)),\" Please make sure your\"\n",
    "                                 \" EMBEDDING_DIM is equal to embedding_vector file ,GloVe,\")\n",
    "                exit(1)\n",
    "\n",
    "            embedding_matrix[i] = embedding_vector\n",
    "\n",
    "\n",
    "\n",
    "    model = Sequential()\n",
    "    model.add(Embedding(len(word_index) + 1,\n",
    "                                EMBEDDING_DIM,\n",
    "                                weights=[embedding_matrix],\n",
    "                                input_length=MAX_SEQUENCE_LENGTH,\n",
    "                                trainable=True))\n",
    "    model.add(Dropout(0.25))\n",
    "    model.add(Conv1D(filters, kernel_size, activation='relu'))\n",
    "    model.add(MaxPooling1D(pool_size=pool_size))\n",
    "    model.add(Conv1D(filters, kernel_size, activation='relu'))\n",
    "    model.add(MaxPooling1D(pool_size=pool_size))\n",
    "    model.add(Conv1D(filters, kernel_size, activation='relu'))\n",
    "    model.add(MaxPooling1D(pool_size=pool_size))\n",
    "    model.add(Conv1D(filters, kernel_size, activation='relu'))\n",
    "    model.add(MaxPooling1D(pool_size=pool_size))\n",
    "    model.add(LSTM(gru_node, return_sequences=True, recurrent_dropout=0.2))\n",
    "    model.add(LSTM(gru_node, return_sequences=True, recurrent_dropout=0.2))\n",
    "    model.add(LSTM(gru_node, return_sequences=True, recurrent_dropout=0.2))\n",
    "    model.add(LSTM(gru_node, recurrent_dropout=0.2))\n",
    "    model.add(Dense(1024,activation='relu'))\n",
    "    model.add(Dense(3, activation='softmax'))\n",
    "\n",
    "    model.compile(loss='categorical_crossentropy',\n",
    "                  optimizer='adam',\n",
    "                  metrics=['accuracy'])\n",
    "\n",
    "    return model\n"
   ]
  },
  {
   "cell_type": "code",
   "execution_count": 63,
   "metadata": {},
   "outputs": [],
   "source": [
    "model = Build_Model(word_index,embeddings_index, 3)"
   ]
  },
  {
   "cell_type": "code",
   "execution_count": 64,
   "metadata": {},
   "outputs": [
    {
     "name": "stdout",
     "output_type": "stream",
     "text": [
      "Model: \"sequential_2\"\n",
      "_________________________________________________________________\n",
      "Layer (type)                 Output Shape              Param #   \n",
      "=================================================================\n",
      "embedding_4 (Embedding)      (None, 250, 100)          5866200   \n",
      "_________________________________________________________________\n",
      "dropout_3 (Dropout)          (None, 250, 100)          0         \n",
      "_________________________________________________________________\n",
      "conv1d_6 (Conv1D)            (None, 249, 256)          51456     \n",
      "_________________________________________________________________\n",
      "max_pooling1d_1 (MaxPooling1 (None, 124, 256)          0         \n",
      "_________________________________________________________________\n",
      "conv1d_7 (Conv1D)            (None, 123, 256)          131328    \n",
      "_________________________________________________________________\n",
      "max_pooling1d_2 (MaxPooling1 (None, 61, 256)           0         \n",
      "_________________________________________________________________\n",
      "conv1d_8 (Conv1D)            (None, 60, 256)           131328    \n",
      "_________________________________________________________________\n",
      "max_pooling1d_3 (MaxPooling1 (None, 30, 256)           0         \n",
      "_________________________________________________________________\n",
      "conv1d_9 (Conv1D)            (None, 29, 256)           131328    \n",
      "_________________________________________________________________\n",
      "max_pooling1d_4 (MaxPooling1 (None, 14, 256)           0         \n",
      "_________________________________________________________________\n",
      "lstm_3 (LSTM)                (None, 14, 256)           525312    \n",
      "_________________________________________________________________\n",
      "lstm_4 (LSTM)                (None, 14, 256)           525312    \n",
      "_________________________________________________________________\n",
      "lstm_5 (LSTM)                (None, 14, 256)           525312    \n",
      "_________________________________________________________________\n",
      "lstm_6 (LSTM)                (None, 256)               525312    \n",
      "_________________________________________________________________\n",
      "dense_5 (Dense)              (None, 1024)              263168    \n",
      "_________________________________________________________________\n",
      "dense_6 (Dense)              (None, 3)                 3075      \n",
      "=================================================================\n",
      "Total params: 8,679,131\n",
      "Trainable params: 8,679,131\n",
      "Non-trainable params: 0\n",
      "_________________________________________________________________\n"
     ]
    }
   ],
   "source": [
    "model.summary()"
   ]
  },
  {
   "cell_type": "code",
   "execution_count": 65,
   "metadata": {},
   "outputs": [
    {
     "name": "stderr",
     "output_type": "stream",
     "text": [
      "C:\\Users\\Harold\\anaconda3\\envs\\python37\\lib\\site-packages\\tensorflow_core\\python\\framework\\indexed_slices.py:433: UserWarning: Converting sparse IndexedSlices to a dense Tensor of unknown shape. This may consume a large amount of memory.\n",
      "  \"Converting sparse IndexedSlices to a dense Tensor of unknown shape. \"\n"
     ]
    },
    {
     "name": "stdout",
     "output_type": "stream",
     "text": [
      "Train on 72000 samples, validate on 8000 samples\n",
      "Epoch 1/15\n",
      "72000/72000 [==============================] - 285s 4ms/step - loss: 0.5107 - accuracy: 0.8428 - val_loss: 0.4747 - val_accuracy: 0.8436\n",
      "Epoch 2/15\n",
      "72000/72000 [==============================] - 282s 4ms/step - loss: 0.4298 - accuracy: 0.8562 - val_loss: 0.4381 - val_accuracy: 0.8624\n",
      "Epoch 3/15\n",
      "72000/72000 [==============================] - 282s 4ms/step - loss: 0.3985 - accuracy: 0.8685 - val_loss: 0.4364 - val_accuracy: 0.8629\n",
      "Epoch 4/15\n",
      "72000/72000 [==============================] - 282s 4ms/step - loss: 0.3780 - accuracy: 0.8761 - val_loss: 0.4223 - val_accuracy: 0.8676\n",
      "Epoch 5/15\n",
      "72000/72000 [==============================] - 283s 4ms/step - loss: 0.3629 - accuracy: 0.8800 - val_loss: 0.4220 - val_accuracy: 0.8674\n",
      "Epoch 6/15\n",
      "72000/72000 [==============================] - 282s 4ms/step - loss: 0.3496 - accuracy: 0.8847 - val_loss: 0.4115 - val_accuracy: 0.8698\n",
      "Epoch 7/15\n",
      "72000/72000 [==============================] - 283s 4ms/step - loss: 0.3397 - accuracy: 0.8869 - val_loss: 0.4281 - val_accuracy: 0.8675\n",
      "Epoch 8/15\n",
      "72000/72000 [==============================] - 281s 4ms/step - loss: 0.3298 - accuracy: 0.8904 - val_loss: 0.4209 - val_accuracy: 0.8635\n",
      "Epoch 9/15\n",
      "72000/72000 [==============================] - 283s 4ms/step - loss: 0.3261 - accuracy: 0.8917 - val_loss: 0.4269 - val_accuracy: 0.8611\n",
      "Epoch 10/15\n",
      "72000/72000 [==============================] - 276s 4ms/step - loss: 0.3197 - accuracy: 0.8938 - val_loss: 0.4476 - val_accuracy: 0.8631\n",
      "Epoch 11/15\n",
      "72000/72000 [==============================] - 277s 4ms/step - loss: 0.3123 - accuracy: 0.8974 - val_loss: 0.4648 - val_accuracy: 0.8596\n",
      "Epoch 12/15\n",
      "72000/72000 [==============================] - 282s 4ms/step - loss: 0.3111 - accuracy: 0.8974 - val_loss: 0.4545 - val_accuracy: 0.8599\n",
      "Epoch 13/15\n",
      "72000/72000 [==============================] - 283s 4ms/step - loss: 0.3062 - accuracy: 0.8987 - val_loss: 0.4546 - val_accuracy: 0.8590\n",
      "Epoch 14/15\n",
      "72000/72000 [==============================] - 281s 4ms/step - loss: 0.3029 - accuracy: 0.8997 - val_loss: 0.4473 - val_accuracy: 0.8579\n",
      "Epoch 15/15\n",
      "72000/72000 [==============================] - 282s 4ms/step - loss: 0.3008 - accuracy: 0.8999 - val_loss: 0.4822 - val_accuracy: 0.8481\n"
     ]
    }
   ],
   "source": [
    "history = model.fit(X_train, Y_train,\n",
    "                              validation_split=0.1,\n",
    "                              epochs=15,\n",
    "                              batch_size=64)"
   ]
  },
  {
   "cell_type": "code",
   "execution_count": 66,
   "metadata": {},
   "outputs": [],
   "source": [
    "predictions = model.predict(X_test)"
   ]
  },
  {
   "cell_type": "code",
   "execution_count": 67,
   "metadata": {},
   "outputs": [
    {
     "name": "stdout",
     "output_type": "stream",
     "text": [
      "[[2.48492360e-02 3.48103046e-02 9.40340459e-01]\n",
      " [2.48492360e-02 3.48103046e-02 9.40340459e-01]\n",
      " [2.06992356e-03 1.11636175e-02 9.86766458e-01]\n",
      " [2.60349014e-04 2.31208699e-03 9.97427523e-01]\n",
      " [1.87349797e-03 1.02327960e-02 9.87893760e-01]]\n",
      "[2, 2, 2, 2, 2]\n"
     ]
    }
   ],
   "source": [
    "print(predictions[:5])\n",
    "\n",
    "y_pred_list = []\n",
    "\n",
    "for i in predictions:\n",
    "    y_pred_list.append(np.argmax(i))\n",
    "    \n",
    "print(y_pred_list[:5])"
   ]
  },
  {
   "cell_type": "code",
   "execution_count": 68,
   "metadata": {},
   "outputs": [],
   "source": [
    "y_test = []\n",
    "for i in Y_test:\n",
    "    y_test.append(np.argmax(i))"
   ]
  },
  {
   "cell_type": "code",
   "execution_count": 69,
   "metadata": {
    "scrolled": true
   },
   "outputs": [
    {
     "name": "stdout",
     "output_type": "stream",
     "text": [
      "[2, 2, 2, 2, 2]\n",
      "[2, 2, 2, 2, 2]\n"
     ]
    }
   ],
   "source": [
    "print(y_pred_list[:5])\n",
    "print(y_test[:5])"
   ]
  },
  {
   "cell_type": "code",
   "execution_count": 70,
   "metadata": {},
   "outputs": [
    {
     "name": "stdout",
     "output_type": "stream",
     "text": [
      "\n",
      "Accuracy on validation set: 0.8535\n",
      "\n",
      "Classification report : \n",
      "               precision    recall  f1-score   support\n",
      "\n",
      "           0       0.49      0.59      0.54      1747\n",
      "           1       0.21      0.07      0.11      1377\n",
      "           2       0.91      0.94      0.93     16876\n",
      "\n",
      "    accuracy                           0.85     20000\n",
      "   macro avg       0.54      0.54      0.52     20000\n",
      "weighted avg       0.83      0.85      0.84     20000\n",
      "\n",
      "\n",
      "Confusion Matrix : \n",
      " [[ 1031    93   623]\n",
      " [  401    97   879]\n",
      " [  658   276 15942]]\n"
     ]
    }
   ],
   "source": [
    "modelEvaluation(y_pred_list,y_test)"
   ]
  },
  {
   "cell_type": "code",
   "execution_count": 71,
   "metadata": {},
   "outputs": [
    {
     "name": "stdout",
     "output_type": "stream",
     "text": [
      "Accuracy is :  0.8535\n"
     ]
    }
   ],
   "source": [
    "print(\"Accuracy is : \",accuracy_score(y_test, y_pred_list))"
   ]
  },
  {
   "cell_type": "code",
   "execution_count": 72,
   "metadata": {
    "colab": {},
    "colab_type": "code",
    "id": "FEisrzXwuSTZ"
   },
   "outputs": [
    {
     "data": {
      "image/png": "[encoded data removed]",
      "text/plain": [
       "<Figure size 432x288 with 1 Axes>"
      ]
     },
     "metadata": {
      "needs_background": "light"
     },
     "output_type": "display_data"
    }
   ],
   "source": [
    "fig1 = plt.figure()\n",
    "plt.plot(history.history['loss'],'r',linewidth=3.0)\n",
    "plt.plot(history.history['val_loss'],'b',linewidth=3.0)\n",
    "plt.legend(['Training loss', 'Validation Loss'],fontsize=18)\n",
    "plt.xlabel('Epochs ',fontsize=16)\n",
    "plt.ylabel('Loss',fontsize=16)\n",
    "plt.title('Loss Curves :RCNN',fontsize=16)\n",
    "fig1.savefig('loss_rcnn.png')\n",
    "plt.show()"
   ]
  },
  {
   "cell_type": "code",
   "execution_count": 73,
   "metadata": {
    "colab": {},
    "colab_type": "code",
    "id": "RNTTqgf2uT_W"
   },
   "outputs": [
    {
     "data": {
      "image/png": "[encoded data removed]",
      "text/plain": [
       "<Figure size 432x288 with 1 Axes>"
      ]
     },
     "metadata": {
      "needs_background": "light"
     },
     "output_type": "display_data"
    }
   ],
   "source": [
    "fig2=plt.figure()\n",
    "plt.plot(history.history['accuracy'],'r',linewidth=3.0)\n",
    "plt.plot(history.history['val_accuracy'],'b',linewidth=3.0)\n",
    "plt.legend(['Training Accuracy', 'Validation Accuracy'],fontsize=18)\n",
    "plt.xlabel('Epochs ',fontsize=16)\n",
    "plt.ylabel('Accuracy',fontsize=16)\n",
    "plt.title('Accuracy Curves : RCNN',fontsize=16)\n",
    "fig2.savefig('accuracy_rcnn.png')\n",
    "plt.show()"
   ]
  },
  {
   "cell_type": "markdown",
   "metadata": {},
   "source": [
    "# ROC Curves"
   ]
  },
  {
   "cell_type": "code",
   "execution_count": 74,
   "metadata": {},
   "outputs": [
    {
     "name": "stdout",
     "output_type": "stream",
     "text": [
      "Variable                          Type                      Data/Info\n",
      "---------------------------------------------------------------------\n",
      "AUC                               function                  <function roc_auc_score at 0x0000020581DFEE58>\n",
      "Activation                        type                      <class 'keras.layers.core.Activation'>\n",
      "BAD_SYMBOLS_RE                    Pattern                   re.compile('[^0-9a-z #+_]')\n",
      "Bidirectional                     type                      <class 'keras.layers.wrappers.Bidirectional'>\n",
      "Build_Model                       function                  <function Build_Model at 0x000002064BAF8D38>\n",
      "Conv1D                            type                      <class 'keras.layers.convolutional.Conv1D'>\n",
      "ConvNet                           function                  <function ConvNet at 0x00000205FD1E3318>\n",
      "CountVectorizer                   type                      <class 'sklearn.feature_e<...>on.text.CountVectorizer'>\n",
      "DecisionTreeClassifier            ABCMeta                   <class 'sklearn.tree._cla<...>.DecisionTreeClassifier'>\n",
      "Dense                             type                      <class 'keras.layers.core.Dense'>\n",
      "Dropout                           type                      <class 'keras.layers.core.Dropout'>\n",
      "EMBEDDING_DIM                     int                       100\n",
      "EarlyStopping                     type                      <class 'keras.callbacks.callbacks.EarlyStopping'>\n",
      "Embedding                         type                      <class 'keras.layers.embeddings.Embedding'>\n",
      "Flatten                           type                      <class 'keras.layers.core.Flatten'>\n",
      "GRU                               type                      <class 'keras.layers.recurrent.GRU'>\n",
      "GlobalMaxPooling1D                type                      <class 'keras.layers.pooling.GlobalMaxPooling1D'>\n",
      "Input                             function                  <function Input at 0x00000205894EFC18>\n",
      "InputSpec                         type                      <class 'keras.engine.base_layer.InputSpec'>\n",
      "K                                 module                    <module 'keras.backend' f<...>s\\\\backend\\\\__init__.py'>\n",
      "LR                                type                      <class 'sklearn.linear_mo<...>stic.LogisticRegression'>\n",
      "LSTM                              type                      <class 'keras.layers.recurrent.LSTM'>\n",
      "LabelEncoder                      type                      <class 'sklearn.preproces<...>ing._label.LabelEncoder'>\n",
      "Layer                             type                      <class 'keras.engine.base_layer.Layer'>\n",
      "MAX_NB_WORDS                      int                       500000\n",
      "MAX_SEQUENCE_LENGTH               int                       250\n",
      "MaxPooling1D                      type                      <class 'keras.layers.pooling.MaxPooling1D'>\n",
      "Model                             type                      <class 'keras.engine.training.Model'>\n",
      "ModelCheckpoint                   type                      <class 'keras.callbacks.c<...>llbacks.ModelCheckpoint'>\n",
      "Naive                             MultinomialNB             MultinomialNB()\n",
      "REPLACE_BY_SPACE_RE               Pattern                   re.compile('[/(){}\\\\[\\\\]\\\\|@,;]')\n",
      "RandomForestClassifier            ABCMeta                   <class 'sklearn.ensemble.<...>.RandomForestClassifier'>\n",
      "Reshape                           type                      <class 'keras.layers.core.Reshape'>\n",
      "STOPWORDS                         set                       {'below', 'hers', \"didn't<...> 'out', \"couldn't\", 'no'}\n",
      "SVM                               SVC                       SVC(gamma='auto', kernel='linear')\n",
      "Sequential                        type                      <class 'keras.engine.sequential.Sequential'>\n",
      "SpatialDropout1D                  type                      <class 'keras.layers.core.SpatialDropout1D'>\n",
      "Test_X                            Series                    75721                   [<...>gth: 20000, dtype: object\n",
      "Test_X_Tfidf                      csr_matrix                  (0, 10493)\t0.6489379185<...> 20612)\t0.885282238568896\n",
      "Test_Y                            Series                    75721    1.0\\n80184    1.<...>th: 20000, dtype: float64\n",
      "TfidfVectorizer                   type                      <class 'sklearn.feature_e<...>on.text.TfidfVectorizer'>\n",
      "Tfidf_vect                        TfidfVectorizer           TfidfVectorizer(max_features=500000)\n",
      "Tokenizer                         type                      <class 'keras_preprocessing.text.Tokenizer'>\n",
      "Train_X                           Series                    75220    ['great', 'produ<...>gth: 80000, dtype: object\n",
      "Train_X_Tfidf                     csr_matrix                  (0, 820)\t0.210494338091<...>1587)\t0.06243780406424069\n",
      "Train_Y                           Series                    75220    1.0\\n48955    1.<...>th: 80000, dtype: float64\n",
      "WordNetLemmatizer                 type                      <class 'nltk.stem.wordnet.WordNetLemmatizer'>\n",
      "X                                 ndarray                   100000x250: 25000000 elems, type `int32`, 100000000 bytes (95.367431640625 Mb)\n",
      "X_test                            ndarray                   20000x250: 5000000 elems, type `int32`, 20000000 bytes (19.073486328125 Mb)\n",
      "X_train                           ndarray                   80000x250: 20000000 elems, type `int32`, 80000000 bytes (76.2939453125 Mb)\n",
      "Y                                 ndarray                   100000x3: 300000 elems, type `uint8`, 300000 bytes (292.96875 kb)\n",
      "Y_test                            ndarray                   20000x3: 60000 elems, type `uint8`, 60000 bytes\n",
      "Y_train                           ndarray                   80000x3: 240000 elems, type `uint8`, 240000 bytes (234.375 kb)\n",
      "a                                 float64                   0.5648845888171484\n",
      "accr                              list                      n=2\n",
      "accuracy_score                    function                  <function accuracy_score at 0x0000020581E0EAF8>\n",
      "add                               function                  <function add at 0x0000020589593DC8>\n",
      "asvm                              float64                   0.6508859610974215\n",
      "b                                 float64                   0.3400492852975055\n",
      "batch_size                        int                       64\n",
      "bsvm                              float64                   0.47446908361578394\n",
      "c                                 float64                   0.3191022160393823\n",
      "clean_text                        function                  <function clean_text at 0x00000205A9D7EEE8>\n",
      "coefs                             ndarray                   100: 100 elems, type `float32`, 400 bytes\n",
      "concatenate                       function                  <function concatenate at 0x00000205895A6168>\n",
      "cp                                ModelCheckpoint           <keras.callbacks.callback<...>ct at 0x000002062ACAC3C8>\n",
      "csv                               module                    <module 'csv' from 'C:\\\\U<...>\\\\python37\\\\lib\\\\csv.py'>\n",
      "csvm                              float64                   0.48784631359236874\n",
      "d                                 NoneType                  None\n",
      "decTree                           DecisionTreeClassifier    DecisionTreeClassifier()\n",
      "defaultdict                       type                      <class 'collections.defaultdict'>\n",
      "df                                DataFrame                        Unnamed: 0        <...>[100000 rows x 6 columns]\n",
      "dsvm                              NoneType                  None\n",
      "embedded_sequences                Tensor                    Tensor(\"embedding_2/embed<...>250, 100), dtype=float32)\n",
      "embedding_layer                   Embedding                 <keras.layers.embeddings.<...>ct at 0x000002062C925948>\n",
      "embedding_matrix                  ndarray                   58662x100: 5866200 elems, type `float64`, 46929600 bytes (44.75555419921875 Mb)\n",
      "embedding_vector                  ndarray                   100: 100 elems, type `float32`, 400 bytes\n",
      "embeddings_index                  dict                      n=400000\n",
      "epochs                            int                       15\n",
      "f                                 TextIOWrapper             <_io.TextIOWrapper name='<...>mode='r' encoding='utf8'>\n",
      "fig1                              Figure                    Figure(432x288)\n",
      "fig2                              Figure                    Figure(432x288)\n",
      "gzip                              module                    <module 'gzip' from 'C:\\\\<...>\\python37\\\\lib\\\\gzip.py'>\n",
      "hist                              History                   <keras.callbacks.callback<...>ct at 0x00000205F981FB08>\n",
      "history                           History                   <keras.callbacks.callback<...>ct at 0x00000206676C8588>\n",
      "historyNB                         MultinomialNB             MultinomialNB()\n",
      "historySVM                        SVC                       SVC(gamma='auto', kernel='linear')\n",
      "i                                 ndarray                   3: 3 elems, type `uint8`, 3 bytes\n",
      "initializers                      module                    <module 'keras.initialize<...>\\keras\\\\initializers.py'>\n",
      "json                              module                    <module 'json' from 'C:\\\\<...>\\lib\\\\json\\\\__init__.py'>\n",
      "l_lstm                            Tensor                    Tensor(\"bidirectional_1/c<...>one, 200), dtype=float32)\n",
      "lat_df                            DataFrame                        Unnamed: 0  Unname<...>[100000 rows x 7 columns]\n",
      "line                              str                       sandberger 0.28365 -0.626<...>43678 -0.82607 -0.15701\\n\n",
      "metrics                           module                    <module 'sklearn.metrics'<...>n\\\\metrics\\\\__init__.py'>\n",
      "model                             Sequential                <keras.engine.sequential.<...>ct at 0x0000020626E97548>\n",
      "modelEvaluation                   function                  <function modelEvaluation at 0x0000020589043318>\n",
      "model_selection                   module                    <module 'sklearn.model_se<...>_selection\\\\__init__.py'>\n",
      "naive_bayes                       module                    <module 'sklearn.naive_ba<...>sklearn\\\\naive_bayes.py'>\n",
      "np                                module                    <module 'numpy' from 'C:\\<...>ges\\\\numpy\\\\__init__.py'>\n",
      "num_epochs                        int                       15\n",
      "os                                module                    <module 'os' from 'C:\\\\Us<...>s\\\\python37\\\\lib\\\\os.py'>\n",
      "pad_sequences                     function                  <function pad_sequences at 0x0000020588EAA168>\n",
      "pd                                module                    <module 'pandas' from 'C:<...>es\\\\pandas\\\\__init__.py'>\n",
      "plt                               module                    <module 'matplotlib.pyplo<...>\\\\matplotlib\\\\pyplot.py'>\n",
      "pos_tag                           function                  <function pos_tag at 0x0000020582057C18>\n",
      "precision_recall_fscore_support   function                  <function precision_recal<...>rt at 0x0000020581E23C18>\n",
      "predictions                       ndarray                   20000x3: 60000 elems, type `float32`, 240000 bytes (234.375 kb)\n",
      "predictions_NB                    ndarray                   20000: 20000 elems, type `float64`, 160000 bytes (156.25 kb)\n",
      "predictions_SVM                   ndarray                   20000: 20000 elems, type `float64`, 160000 bytes (156.25 kb)\n",
      "preds                             Tensor                    Tensor(\"dense_2/Softmax:0<...>(None, 3), dtype=float32)\n",
      "random                            module                    <module 'random' from 'C:<...>ython37\\\\lib\\\\random.py'>\n",
      "re                                module                    <module 're' from 'C:\\\\Us<...>s\\\\python37\\\\lib\\\\re.py'>\n",
      "second                            float                     1596998151.8840024\n",
      "sequence_input                    Tensor                    Tensor(\"input_1:0\", shape<...>(None, 250), dtype=int32)\n",
      "stopwords                         WordListCorpusReader      <WordListCorpusReader in <...>ata\\\\corpora\\\\stopwords'>\n",
      "svm                               module                    <module 'sklearn.svm' fro<...>learn\\\\svm\\\\__init__.py'>\n",
      "sys                               module                    <module 'sys' (built-in)>\n",
      "third                             float                     1596999645.8855877\n",
      "time                              module                    <module 'time' (built-in)>\n",
      "tokenizer                         Tokenizer                 <keras_preprocessing.text<...>ct at 0x00000205AA1C2B88>\n",
      "train_test_split                  function                  <function train_test_split at 0x000002058176BAF8>\n",
      "values                            list                      n=101\n",
      "wn                                LazyCorpusLoader          <WordNetCorpusReader in '<...>ordnet' (not loaded yet)>\n",
      "word                              str                       ammonia\n",
      "word_index                        dict                      n=58661\n",
      "word_tokenize                     function                  <function word_tokenize at 0x00000205817FB8B8>\n",
      "y_decTree_predicted               ndarray                   20000: 20000 elems, type `float64`, 160000 bytes (156.25 kb)\n",
      "y_hat                             ndarray                   20000x3: 60000 elems, type `float32`, 240000 bytes (234.375 kb)\n",
      "y_hat_class                       ndarray                   20000: 20000 elems, type `int64`, 160000 bytes (156.25 kb)\n",
      "y_pred_list                       list                      n=20000\n",
      "y_test                            list                      n=20000\n"
     ]
    }
   ],
   "source": [
    "%whos"
   ]
  },
  {
   "cell_type": "code",
   "execution_count": 78,
   "metadata": {},
   "outputs": [],
   "source": []
  },
  {
   "cell_type": "code",
   "execution_count": null,
   "metadata": {},
   "outputs": [],
   "source": []
  }
 ],
 "metadata": {
  "colab": {
   "name": "ML_Project.ipynb",
   "provenance": [],
   "toc_visible": true
  },
  "kernelspec": {
   "display_name": "Python 3",
   "language": "python",
   "name": "python3"
  },
  "language_info": {
   "codemirror_mode": {
    "name": "ipython",
    "version": 3
   },
   "file_extension": ".py",
   "mimetype": "text/x-python",
   "name": "python",
   "nbconvert_exporter": "python",
   "pygments_lexer": "ipython3",
   "version": "3.7.7"
  }
 },
 "nbformat": 4,
 "nbformat_minor": 1
}
